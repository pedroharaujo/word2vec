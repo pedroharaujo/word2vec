{
  "cells": [
    {
      "attachments": {},
      "cell_type": "markdown",
      "metadata": {
        "id": "ximVuqwNIwzR"
      },
      "source": [
        "## Intro"
      ]
    },
    {
      "attachments": {},
      "cell_type": "markdown",
      "metadata": {
        "id": "VC6eiqHQIz8J"
      },
      "source": [
        "This project aims to produce and evaluate a neural language model, making analogies and comparing the distance between the correct word and the word predicted by the model. Due to the extensive documentation and usage, we chose to use the *gensim* library.\n",
        "\n",
        "For pragmatism, we will follow the corpus suggestions and use the *text8* corpus, available in the *gensim* package with the sentences being iterable. The following code loads the packages that will be used and the data."
      ]
    },
    {
      "cell_type": "code",
      "execution_count": 1,
      "metadata": {
        "id": "zjdF1Ku2Iv8d"
      },
      "outputs": [],
      "source": [
        "import gensim.downloader as api\n",
        "from gensim.models import word2vec\n",
        "from gensim.test.utils import datapath\n",
        "import matplotlib.pyplot as plt\n",
        "from sklearn.manifold import TSNE\n",
        "from gensim.parsing.preprocessing import remove_stopwords, preprocess_string\n",
        "import logging\n",
        "from sklearn.decomposition import PCA\n",
        "from matplotlib import pyplot\n",
        "logging.basicConfig(format='%(asctime)s : %(levelname)s : %(message)s', level=logging.INFO)\n",
        "\n",
        "dataset = api.load(\"text8\")\n",
        "sentences = list(dataset)"
      ]
    },
    {
      "attachments": {},
      "cell_type": "markdown",
      "metadata": {
        "id": "nczgycRt5hWM"
      },
      "source": [
        "Much of the success of a language model is due to good data pre-processing. This step includes techniques such as converting all characters to lowercase, removing commas and punctuation marks in general, *tokenization*, removal of *stopwords* and *lemmatization*, among others.\n",
        "\n",
        "However, the supplied *text8* corpus already presents all lowercase characters and with a good quality, since it comes from Wikipedia. Thus, the pre-processing step applied here basically consists of removing *stop words*, which is done in the following code. A possible filtering that would help in pre-processing would be words of only 3 characters. Exploring the dataset it was possible to observe several typos for these. However, as the process would require an individual analysis of each case and the results obtained without this filtering were sufficiently satisfactory, the simplicity of the code and pragmatism were preferred."
      ]
    },
    {
      "cell_type": "code",
      "execution_count": 2,
      "metadata": {
        "colab": {
          "base_uri": "https://localhost:8080/"
        },
        "id": "pdzDUwrDuDUr",
        "outputId": "5dc1b924-6bf7-4547-fcb8-0b087844d81a"
      },
      "outputs": [
        {
          "name": "stdout",
          "output_type": "stream",
          "text": [
            "['anarchism', 'originated', 'term', 'abuse', 'early', 'working', 'class', 'radicals', 'including', 'diggers', 'english', 'revolution', 'sans', 'culottes', 'french', 'revolution', 'whilst', 'term', 'pejorative', 'way', 'act', 'violent', 'means', 'destroy', 'organization', 'society', 'taken', 'positive', 'label', 'self', 'defined', 'anarchists', 'word', 'anarchism', 'derived', 'greek', 'archons', 'ruler', 'chief', 'king', 'anarchism', 'political', 'philosophy', 'belief', 'rulers', 'unnecessary', 'abolished', 'differing', 'interpretations', 'means', 'anarchism', 'refers', 'related', 'social', 'movements', 'advocate', 'elimination', 'authoritarian', 'institutions', 'particularly', 'state', 'word', 'anarchy', 'anarchists', 'use', 'imply', 'chaos', 'nihilism', 'anomie', 'harmonious', 'anti', 'authoritarian', 'society', 'place', 'regarded', 'authoritarian', 'political', 'structures', 'coercive', 'economic', 'institutions', 'anarchists', 'advocate', 'social', 'relations', 'based', 'voluntary', 'association', 'autonomous', 'individuals', 'mutual', 'aid', 'self', 'governance', 'anarchism', 'easily', 'defined', 'anarchists', 'offer', 'positive', 'visions', 'believe', 'truly', 'free', 'society', 'ideas', 'anarchist', 'society', 'work', 'vary', 'considerably', 'especially', 'respect', 'economics', 'disagreement', 'free', 'society', 'brought', 'origins', 'predecessors', 'kropotkin', 'argue', 'recorded', 'history', 'human', 'society', 'organized', 'anarchist', 'principles', 'anthropologists', 'follow', 'kropotkin', 'engels', 'believing', 'hunter', 'gatherer', 'bands', 'egalitarian', 'lacked', 'division', 'labour', 'accumulated', 'wealth', 'decreed', 'law', 'equal', 'access', 'resources', 'william', 'godwin', 'anarchists', 'including', 'anarchy', 'organisation', 'rothbard', 'anarchist', 'attitudes', 'taoism', 'ancient', 'china', 'kropotkin', 'similar', 'ideas', 'stoic', 'zeno', 'citium', 'according', 'kropotkin', 'zeno', 'repudiated', 'omnipotence', 'state', 'intervention', 'regimentation', 'proclaimed', 'sovereignty', 'moral', 'law', 'individual', 'anabaptists', 'century', 'europe', 'considered', 'religious', 'forerunners', 'modern', 'anarchism', 'bertrand', 'russell', 'history', 'western', 'philosophy', 'writes', 'anabaptists', 'repudiated', 'law', 'held', 'good', 'man', 'guided', 'moment', 'holy', 'spirit', 'premise', 'arrive', 'communism', 'diggers', 'true', 'levellers', 'early', 'communistic', 'movement', 'time', 'english', 'civil', 'war', 'considered', 'forerunners', 'modern', 'anarchism', 'modern', 'era', 'use', 'term', 'mean', 'chaos', 'louis', 'armand', 'baron', 'lahontan', 'nouveaux', 'voyages', 'dans', 'rique', 'septentrionale', 'seven', 'zero', 'described', 'indigenous', 'american', 'society', 'state', 'laws', 'prisons', 'priests', 'private', 'property', 'anarchy', 'russell', 'means', 'libertarian', 'leader', 'american', 'indian', 'movement', 'repeatedly', 'stated', 'anarchist', 'ancestors', 'seven', 'french', 'revolution', 'william', 'godwin', 'published', 'enquiry', 'concerning', 'political', 'justice', 'godwin', 'use', 'word', 'anarchism', 'later', 'anarchists', 'regarded', 'book', 'major', 'anarchist', 'text', 'godwin', 'founder', 'philosophical', 'anarchism', 'point', 'anarchist', 'movement', 'existed', 'term', 'anarchiste', 'known', 'mainly', 'insult', 'hurled', 'bourgeois', 'girondins', 'radical', 'elements', 'french', 'revolution', 'self', 'labelled', 'anarchist', 'pierre', 'joseph', 'proudhon', 'commonly', 'held', 'wasn', 'pierre', 'joseph', 'proudhon', 'published', 'property', 'zero', 'term', 'anarchist', 'adopted', 'self', 'description', 'reason', 'claim', 'proudhon', 'founder', 'modern', 'anarchist', 'theory', 'property', 'proudhon', 'answers', 'famous', 'accusation', 'property', 'theft', 'work', 'opposed', 'institution', 'decreed', 'property', 'propri', 'owners', 'complete', 'rights', 'use', 'abuse', 'property', 'wish', 'exploiting', 'workers', 'profit', 'place', 'proudhon', 'supported', 'called', 'possession', 'individuals', 'limited', 'rights', 'use', 'resources', 'capital', 'goods', 'accordance', 'principles', 'equality', 'justice', 'proudhon', 'vision', 'anarchy', 'called', 'mutualism', 'mutuellisme', 'involved', 'exchange', 'economy', 'individuals', 'groups', 'trade', 'products', 'labor', 'labor', 'notes', 'represented', 'working', 'time', 'involved', 'production', 'ensure', 'profit', 'labor', 'workers', 'freely', 'join', 'operative', 'workshops', 'free', 'bank', 'set', 'provide', 'access', 'means', 'production', 'proudhon', 'ideas', 'influential', 'french', 'working', 'class', 'movements', 'followers', 'active', 'revolution', 'france', 'proudhon', 'philosophy', 'property', 'complex', 'developed', 'number', 'works', 'lifetime', 'differing', 'interpretations', 'ideas', 'detailed', 'discussion', 'max', 'stirner', 'egoism', 'ego', 'stirner', 'argued', 'commonly', 'accepted', 'social', 'institutions', 'including', 'notion', 'state', 'property', 'right', 'natural', 'rights', 'general', 'notion', 'society', 'mere', 'illusions', 'ghosts', 'mind', 'saying', 'society', 'individuals', 'reality', 'advocated', 'egoism', 'form', 'amoralism', 'individuals', 'unite', 'associations', 'egoists', 'self', 'property', 'simply', 'comes', 'knows', 'defend', 'thing', 'belongs', 'property', 'power', 'long', 'assert', 'holder', 'proprietor', 'thing', 'stirner', 'called', 'anarchist', 'accepted', 'label', 'egoist', 'ideas', 'influential', 'individualistically', 'inclined', 'anarchists', 'interpretations', 'thought', 'diverse', 'american', 'individualist', 'anarchism', 'benjamin', 'tucker', 'josiah', 'warren', 'participated', 'communitarian', 'experiment', 'headed', 'robert', 'owen', 'called', 'new', 'harmony', 'failed', 'years', 'amidst', 'internal', 'conflict', 'warren', 'blamed', 'community', 'failure', 'lack', 'individual', 'sovereignty', 'lack', 'private', 'property', 'warren', 'proceeded', 'organise', 'experimenal', 'anarchist', 'communities', 'respected', 'called', 'sovereignty', 'individual', 'utopia', 'modern', 'times', 'warren', 'wrote', 'published', 'peaceful', 'revolutionist', 'noted', 'anarchist', 'periodical', 'published', 'benjamin', 'tucker', 'says', 'warren', 'man', 'expound', 'formulate', 'doctrine', 'known', 'anarchism', 'liberty', 'xiv', 'december', 'zero', 'zero', 'benjamin', 'tucker', 'interested', 'anarchism', 'meeting', 'josiah', 'warren', 'william', 'greene', 'edited', 'published', 'liberty', 'august', 'april', 'zero', 'widely', 'considered', 'finest', 'individualist', 'anarchist', 'periodical', 'issued', 'english', 'language', 'tucker', 'conception', 'individualist', 'anarchism', 'incorporated', 'ideas', 'variety', 'theorists', 'greene', 'ideas', 'mutual', 'banking', 'warren', 'ideas', 'cost', 'limit', 'price', 'heterodox', 'variety', 'labour', 'theory', 'value', 'proudhon', 'market', 'anarchism', 'max', 'stirner', 'egoism', 'herbert', 'spencer', 'law', 'equal', 'freedom', 'tucker', 'strongly', 'supported', 'individual', 'right', 'product', 'labour', 'private', 'property', 'believed', 'market', 'economy', 'trading', 'property', 'argued', 'truly', 'free', 'market', 'state', 'abundance', 'competition', 'eliminate', 'profits', 'ensure', 'workers', 'received', 'value', 'labor', 'century', 'individualists', 'included', 'lysander', 'spooner', 'stephen', 'pearl', 'andrews', 'victor', 'yarros', 'international', 'mikhail', 'bakunin', 'seven', 'europe', 'harsh', 'reaction', 'followed', 'revolutions', 'years', 'later', 'international', 'workingmen', 'association', 'called', 'international', 'united', 'diverse', 'european', 'revolutionary', 'currents', 'including', 'anarchism', 'genuine', 'links', 'active', 'workers', 'movements', 'international', 'signficiant', 'start', 'karl', 'marx', 'leading', 'figure', 'international', 'elected', 'succeeding', 'general', 'council', 'association', 'objections', 'marx', 'came', 'mutualists', 'opposed', 'communism', 'statism', 'shortly', 'mikhail', 'bakunin', 'followers', 'joined', 'international', 'polarised', 'camps', 'marx', 'bakunin', 'respective', 'figureheads', 'clearest', 'difference', 'camps', 'strategy', 'anarchists', 'bakunin', 'favoured', 'kropotkin', 'words', 'direct', 'economical', 'struggle', 'capitalism', 'interfering', 'political', 'parliamentary', 'agitation', 'time', 'marx', 'followers', 'focused', 'parliamentary', 'activity', 'bakunin', 'characterised', 'marx', 'ideas', 'authoritarian', 'predicted', 'marxist', 'party', 'gained', 'power', 'leaders', 'end', 'bad', 'ruling', 'class', 'fought', 'seven', 'conflict', 'climaxed', 'final', 'split', 'groups', 'hague', 'congress', 'cited', 'origin', 'conflict', 'anarchists', 'marxists', 'moment', 'social', 'democratic', 'libertarian', 'currents', 'socialism', 'distinct', 'organisations', 'including', 'rival', 'internationals', 'anarchist', 'communism', 'peter', 'kropotkin', 'proudhon', 'bakunin', 'opposed', 'communism', 'associating', 'statism', 'seven', 'zero', 'anarchists', 'moved', 'away', 'bakunin', 'economic', 'thinking', 'called', 'collectivism', 'embraced', 'communist', 'concepts', 'communists', 'believed', 'means', 'production', 'owned', 'collectively', 'goods', 'distributed', 'need', 'labor', 'early', 'anarchist', 'communist', 'joseph', 'jacque', 'person', 'libertarian', 'unlike', 'proudhon', 'argued', 'product', 'labor', 'worker', 'right', 'satisfaction', 'needs', 'nature', 'announced', 'ideas', 'published', 'journal', 'libertaire', 'peter', 'kropotkin', 'seen', 'important', 'theorist', 'outlined', 'economic', 'ideas', 'conquest', 'bread', 'fields', 'factories', 'workshops', 'felt', 'operation', 'beneficial', 'competition', 'illustrated', 'nature', 'mutual', 'aid', 'factor', 'evolution', 'seven', 'subsequent', 'anarchist', 'communists', 'include', 'emma', 'goldman', 'alexander', 'berkman', 'anarcho', 'syndicalist', 'movements', 'saw', 'anarchist', 'communism', 'objective', 'isaac', 'puente', 'comunismo', 'libertario', 'adopted', 'spanish', 'cnt', 'manifesto', 'post', 'revolutionary', 'society', 'anarchists', 'disliked', 'merging', 'communism', 'anarchism', 'individualist', 'anarchists', 'maintained', 'abolition', 'private', 'property', 'consistent', 'liberty', 'example', 'benjamin', 'tucker', 'whilst', 'professing', 'respect', 'kropotkin', 'publishing', 'work', 'described', 'communist', 'anarchism', 'pseudo', 'anarchism', 'propaganda', 'deed', 'johann', 'outspoken', 'advocate', 'violence', 'anarchists', 'portrayed', 'dangerous', 'violent', 'mainly', 'number', 'high', 'profile', 'violent', 'acts', 'including', 'riots', 'assassinations', 'insurrections', 'terrorism', 'anarchists', 'revolutionaries', 'late', 'century', 'encouraged', 'acts', 'political', 'violence', 'bombings', 'assassinations', 'heads', 'state', 'anarchism', 'actions', 'called', 'propaganda', 'deed', 'outspoken', 'advocates', 'strategy', 'johann', 'said', 'existing', 'quickest', 'radically', 'overthrown', 'annihilation', 'exponents', 'massacres', 'enemies', 'people', 'set', 'motion', 'preferred', 'method', 'terrorism', 'dynamite', 'earned', 'moniker', 'dynamost', 'consensus', 'legitimacy', 'utility', 'violence', 'general', 'mikhail', 'bakunin', 'errico', 'malatesta', 'example', 'wrote', 'violence', 'necessary', 'desirable', 'force', 'revolutionary', 'settings', 'time', 'denounced', 'acts', 'individual', 'terrorism', 'malatesta', 'violence', 'bakunin', 'refuted', 'nechaev', 'anarchists', 'identified', 'pacifist', 'anarchists', 'advocated', 'complete', 'nonviolence', 'leo', 'tolstoy', 'philosophy', 'viewed', 'form', 'christian', 'anarchism', 'notable', 'exponent', 'nonviolent', 'resistance', 'anarchism', 'labour', 'movement', 'red', 'black', 'flag', 'coming', 'experience', 'anarchists', 'labour', 'movement', 'particularly', 'associated', 'anarcho', 'syndicalism', 'anarcho', 'syndicalism', 'early', 'zero', 'century', 'working', 'class', 'movement', 'seeking', 'overthrow', 'capitalism', 'state', 'institute', 'worker', 'controlled', 'society', 'movement', 'pursued', 'industrial', 'actions', 'general', 'strike', 'primary', 'strategy', 'anarcho', 'syndicalists', 'believed', 'anarchist', 'communism', 'communists', 'believed', 'syndicalism', 'seven', 'repression', 'french', 'anarchism', 'reemerged', 'influencing', 'bourses', 'travails', 'autonomous', 'workers', 'groups', 'trade', 'unions', 'movement', 'conf', 'ration', 'rale', 'travail', 'general', 'confederation', 'work', 'cgt', 'formed', 'major', 'anarcho', 'syndicalist', 'movement', 'emile', 'pataud', 'emile', 'pouget', 'writing', 'cgt', 'saw', 'libertarian', 'communism', 'developing', 'general', 'strike', 'cgt', 'moved', 'away', 'anarcho', 'syndicalism', 'appeal', 'bolshevism', 'french', 'style', 'syndicalism', 'significant', 'movement', 'europe', 'prior', 'remained', 'significant', 'movement', 'spain', 'mid', 'zero', 'industrial', 'workers', 'world', 'iww', 'founded', 'zero', 'espoused', 'unionism', 'sought', 'general', 'strike', 'usher', 'stateless', 'society', 'zero', 'zero', 'zero', 'zero', 'zero', 'members', 'existed', 'support', 'zero', 'zero', 'zero', 'zero', 'zero', 'explicitly', 'anarchist', 'organized', 'rank', 'file', 'democracy', 'embodying', 'spirit', 'resistance', 'inspired', 'anglophone', 'syndicalists', 'cnt', 'propaganda', 'april', 'zero', 'zero', 'reads', 'let', 'politicians', 'rule', 'lives', 'vote', 'decide', 'allow', 'unity', 'action', 'self', 'management', 'spanish', 'anarchist', 'trade', 'union', 'federations', 'formed', 'seven', 'zero', 'zero', 'zero', 'zero', 'successful', 'confederaci', 'nacional', 'del', 'trabajo', 'national', 'confederation', 'labour', 'cnt', 'founded', 'zero', 'prior', 'zero', 'cnt', 'major', 'force', 'spanish', 'working', 'class', 'politics', 'membership', 'million', 'cnt', 'played', 'major', 'role', 'spanish', 'civil', 'war', 'anarchism', 'spain', 'syndicalists', 'like', 'ricardo', 'flores', 'mag', 'key', 'figures', 'mexican', 'revolution', 'latin', 'american', 'anarchism', 'strongly', 'influenced', 'extending', 'zapatista', 'rebellion', 'factory', 'occupation', 'movements', 'argentina', 'berlin', 'cnt', 'joined', 'international', 'workers', 'association', 'anarcho', 'syndicalist', 'successor', 'international', 'contemporary', 'anarcho', 'syndicalism', 'continues', 'minor', 'force', 'socities', 'smaller', 'zero', 'zero', 'zero', 'largest', 'organised', 'anarchist', 'movement', 'today', 'spain', 'form', 'confederaci', 'general', 'del', 'trabajo', 'cnt', 'cgt', 'claims', 'paid', 'membership', 'zero', 'zero', 'zero', 'zero', 'received', 'million', 'votes', 'spanish', 'syndical', 'elections', 'active', 'syndicalist', 'movements', 'include', 'workers', 'solidarity', 'alliance', 'solidarity', 'federation', 'revolutionary', 'industrial', 'unionist', 'industrial', 'workers', 'world', 'exists', 'claiming', 'zero', 'zero', 'zero', 'paid', 'members', 'contemporary', 'critics', 'anarcho', 'syndicalism', 'revolutionary', 'industrial', 'unionism', 'claim', 'workerist', 'fail', 'deal', 'economic', 'life', 'outside', 'work', 'post', 'leftist', 'critics', 'bob', 'black', 'claim', 'anarcho', 'syndicalism', 'advocates', 'oppressive', 'social', 'structures', 'work', 'workplace', 'anarcho', 'syndicalists', 'general', 'uphold', 'principles', 'workers', 'solidarity', 'direct', 'action', 'self', 'management', 'russian', 'revolution', 'russian', 'revolution', 'seven', 'seismic', 'event', 'development', 'anarchism', 'movement', 'philosophy', 'anarchists', 'participated', 'alongside', 'bolsheviks', 'february', 'october', 'revolutions', 'anarchists', 'initially', 'supporting', 'bolshevik', 'coup', 'bolsheviks', 'soon', 'turned', 'anarchists', 'left', 'wing', 'opposition', 'conflict', 'culminated', 'kronstadt', 'rebellion', 'anarchists', 'central', 'russia', 'imprisoned', 'driven', 'underground', 'joined', 'victorious', 'bolsheviks', 'ukraine', 'anarchists', 'fought', 'civil', 'war', 'whites', 'bolsheviks', 'makhnovshchina', 'peasant', 'army', 'led', 'nestor', 'makhno', 'expelled', 'american', 'anarchists', 'emma', 'goldman', 'alexander', 'berkman', 'leaving', 'russia', 'agitating', 'response', 'bolshevik', 'policy', 'suppression', 'kronstadt', 'uprising', 'wrote', 'classic', 'accounts', 'experiences', 'russia', 'aiming', 'expose', 'reality', 'bolshevik', 'control', 'bakunin', 'predictions', 'consequences', 'marxist', 'rule', 'proved', 'true', 'victory', 'bolsheviks', 'october', 'revolution', 'resulting', 'russian', 'civil', 'war', 'damage', 'anarchist', 'movements', 'internationally', 'workers', 'activists', 'saw', 'bolshevik', 'success', 'setting', 'example', 'communist', 'parties', 'grew', 'expense', 'anarchism', 'socialist', 'movements', 'france', 'example', 'major', 'syndicalist', 'movements', 'cgt', 'iww', 'began', 'realign', 'away', 'anarchism', 'communist', 'international', 'paris', 'dielo', 'truda', 'group', 'russian', 'anarchist', 'exiles', 'included', 'nestor', 'makhno', 'concluded', 'anarchists', 'needed', 'develop', 'new', 'forms', 'organisation', 'response', 'structures', 'bolshevism', 'manifesto', 'known', 'organisational', 'platform', 'libertarian', 'communists', 'supported', 'communist', 'anarchists', 'opposed', 'platform', 'continues', 'inspire', 'contemporary', 'anarchist', 'groups', 'believe', 'anarchist', 'movement', 'organised', 'principles', 'theoretical', 'unity', 'tactical', 'unity', 'collective', 'responsibility', 'federalism', 'platformist', 'groups', 'today', 'include', 'workers', 'solidarity', 'movement', 'ireland', 'anarchist', 'federation', 'late', 'north', 'eastern', 'federation', 'anarchist', 'communists', 'northeastern', 'united', 'states', 'bordering', 'canada', 'fight', 'fascism', 'spain', 'members', 'cnt', 'construct', 'armoured', 'cars', 'fight', 'fascists', 'collectivised', 'factories', 'zero', 'zero', 'familiar', 'dynamics', 'anarchism', 'conflict', 'state', 'transformed', 'rise', 'fascism', 'europe', 'cases', 'european', 'anarchists', 'faced', 'difficult', 'choices', 'join', 'popular', 'fronts', 'reformist', 'democrats', 'soviet', 'led', 'communists', 'common', 'fascist', 'enemy', 'luigi', 'fabbri', 'exile', 'italian', 'fascism', 'arguing', 'fascism', 'different', 'fascism', 'form', 'government', 'like', 'uses', 'violence', 'authoritarian', 'violent', 'form', 'government', 'imaginable', 'represents', 'utmost', 'glorification', 'theory', 'practice', 'principle', 'authority', 'france', 'fascists', 'came', 'close', 'insurrection', 'february', 'riots', 'anarchists', 'divided', 'united', 'policy', 'spain', 'cnt', 'initially', 'refused', 'join', 'popular', 'electoral', 'alliance', 'abstention', 'cnt', 'supporters', 'led', 'right', 'wing', 'election', 'victory', 'cnt', 'changed', 'policy', 'anarchist', 'votes', 'helped', 'bring', 'popular', 'power', 'months', 'later', 'ruling', 'class', 'responded', 'attempted', 'coup', 'spanish', 'civil', 'war', 'underway', 'reponse', 'army', 'rebellion', 'anarchist', 'inspired', 'movement', 'peasants', 'workers', 'supported', 'armed', 'militias', 'took', 'control', 'major', 'city', 'barcelona', 'large', 'areas', 'rural', 'spain', 'collectivized', 'land', 'eventual', 'fascist', 'victory', 'anarchists', 'losing', 'ground', 'bitter', 'struggle', 'stalinists', 'cnt', 'leadership', 'appeared', 'confused', 'divided', 'members', 'controversially', 'entering', 'government', 'stalinist', 'led', 'troops', 'suppressed', 'collectives', 'persecuted', 'dissident', 'marxists', 'anarchists', 'late', 'seven', 'zero', 'anarchists', 'involved', 'fighting', 'rise', 'neo', 'fascist', 'groups', 'germany', 'united', 'kingdom', 'anarchists', 'worked', 'militant', 'anti', 'fascist', 'groups', 'alongside', 'members', 'marxist', 'left', 'advocated', 'directly', 'combating', 'fascists', 'physical', 'force', 'relying', 'state', 'late', 'zero', 'similar', 'tendency', 'developed', 'anarchism', 'anti', 'racist', 'action', 'anti', 'fascist', 'action', 'antifa', 'religious', 'anarchism', 'leo', 'tolstoy', 'zero', 'anarchist', 'culture', 'tends', 'secular', 'outright', 'anti', 'religious', 'combination', 'religious', 'social', 'conscience', 'historical', 'religiousity', 'oppressed', 'social', 'classes', 'compatibility', 'interpretations', 'religious', 'traditions', 'anarchism', 'resulted', 'religious', 'anarchism', 'christian', 'anarchists', 'believe', 'higher', 'authority', 'god', 'oppose', 'earthly', 'authority', 'government', 'established', 'churches', 'believe', 'jesus', 'teachings', 'clearly', 'anarchistic', 'corrupted', 'christianity', 'declared', 'official', 'religion', 'rome', 'christian', 'anarchists', 'follow', 'jesus', 'directive', 'turn', 'cheek', 'strict', 'pacifists', 'famous', 'advocate', 'christian', 'anarchism', 'leo', 'tolstoy', 'author', 'kingdom', 'god', 'called', 'society', 'based', 'compassion', 'nonviolent', 'principles', 'freedom', 'christian', 'anarchists', 'tend', 'form', 'experimental', 'communities', 'occasionally', 'resist', 'taxation', 'christian', 'anarchists', 'vegetarian', 'vegan', 'christian', 'anarchy', 'said', 'roots', 'old', 'religion', 'birth', 'early', 'church', 'exhibits', 'anarchistic', 'tendencies', 'communal', 'goods', 'wealth', 'aiming', 'obey', 'utterly', 'certain', 'bible', 'teachings', 'certain', 'anabaptist', 'groups', 'sixteenth', 'century', 'europe', 'attempted', 'emulate', 'early', 'church', 'social', 'economic', 'organisation', 'philosophy', 'social', 'structure', 'capable', 'true', 'obediance', 'jesus', 'teachings', 'utterly', 'rejected', 'theory', 'earthly', 'hierarchies', 'authority', 'non', 'anabaptists', 'general', 'violence', 'ungodly', 'groups', 'example', 'hutterites', 'typically', 'went', 'initially', 'anarchistic', 'beginnings', 'movements', 'stabalised', 'authoritarian', 'social', 'models', 'chinese', 'anarchism', 'influential', 'zero', 'strands', 'chinese', 'anarchism', 'included', 'tai', 'buddhist', 'anarchism', 'influenced', 'tolstoy', 'field', 'neopaganism', 'focus', 'environment', 'equality', 'decentralized', 'nature', 'lead', 'number', 'neopagan', 'anarchists', 'prominent', 'starhawk', 'writes', 'extensively', 'spirituality', 'activism', 'anarchism', 'feminism', 'emma', 'goldman', 'early', 'french', 'feminists', 'jenny', 'ricourt', 'juliette', 'adam', 'criticised', 'mysogyny', 'anarchism', 'proudhon', 'zero', 'anarcha', 'feminism', 'kind', 'radical', 'feminism', 'espouses', 'belief', 'patriarchy', 'fundamental', 'problem', 'society', 'anarchist', 'feminism', 'existed', 'years', 'explicit', 'formulation', 'anarcha', 'feminism', 'dates', 'early', 'seven', 'zero', 'second', 'wave', 'feminist', 'movement', 'anarcha', 'feminism', 'views', 'patriarchy', 'manifestation', 'hierarchy', 'human', 'history', 'form', 'oppression', 'occurred', 'dominance', 'male', 'female', 'anarcha', 'feminists', 'conclude', 'feminists', 'patriarchy', 'forms', 'hierarchy', 'reject', 'authoritarian', 'nature', 'state', 'capitalism', 'anarcho', 'primitivists', 'creation', 'gender', 'roles', 'patriarchy', 'creation', 'start', 'civilization', 'consider', 'primitivism', 'anarchist', 'school', 'thought', 'addresses', 'feminist', 'concerns', 'eco', 'feminism', 'considered', 'feminist', 'variant', 'green', 'anarchist', 'feminist', 'thought', 'anarcha', 'feminism', 'associated', 'early', 'zero', 'century', 'authors', 'theorists', 'emma', 'goldman', 'voltairine', 'cleyre', 'early', 'wave', 'feminist', 'mary', 'wollstonecraft', 'held', 'proto', 'anarchist', 'views', 'william', 'godwin', 'considered', 'feminist', 'anarchist', 'precursor', 'noted', 'goldman', 'cleyre', 'opposed', 'state', 'opposing', 'philosophies', 'cleyre', 'explains', 'miss', 'goldman', 'communist', 'individualist', 'wishes', 'destroy', 'right', 'property', 'wish', 'assert', 'war', 'privilege', 'authority', 'right', 'property', 'true', 'right', 'proper', 'individual', 'annihilated', 'believes', 'operation', 'entirely', 'supplant', 'competition', 'hold', 'competition', 'form', 'exist', 'highly', 'desirable', 'spanish', 'civil', 'war', 'anarcha', 'feminist', 'group', 'free', 'women', 'organized', 'defend', 'anarchist', 'feminist', 'ideas', 'modern', 'day', 'anarchist', 'movement', 'anarchists', 'male', 'female', 'consider', 'feminists', 'anarcha', 'feminist', 'ideas', 'growing', 'publishing', 'quiet', 'rumors', 'anarcha', 'feminist', 'reader', 'helped', 'spread', 'kinds', 'anti', 'authoritarian', 'anarchist', 'feminist', 'ideas', 'broader', 'movement', 'wendy', 'mcelroy', 'popularized', 'individualist', 'anarchism', 'feminism', 'books', 'articles', 'individualist', 'feminist', 'website', 'anarcho', 'capitalism', 'murray', 'rothbard', 'anarcho', 'capitalism', 'predominantly', 'united', 'states', 'based', 'theoretical', 'tradition', 'desires', 'stateless', 'society', 'economic', 'free', 'market', 'capitalism', 'unlike', 'branches', 'anarchism', 'oppose', 'profit', 'capitalism', 'consequently', 'anarchists', 'recognise', 'anarcho', 'capitalism', 'form', 'anarchism', 'murray', 'rothbard', 'synthesis', 'classical', 'liberalism', 'austrian', 'economics', 'germinal', 'development', 'contemporary', 'anarcho', 'capitalist', 'theory', 'defines', 'anarcho', 'capitalism', 'terms', 'non', 'aggression', 'principle', 'based', 'concept', 'natural', 'law', 'competiting', 'theorists', 'use', 'egoism', 'utilitarianism', 'david', 'friedman', 'contractarianism', 'jan', 'narveson', 'minarchists', 'ayn', 'rand', 'robert', 'nozick', 'robert', 'heinlein', 'influenced', 'anarcho', 'capitalism', 'anarcho', 'capitalists', 'right', 'wing', 'libertarian', 'historians', 'david', 'hart', 'ralph', 'raico', 'considered', 'similar', 'philosophies', 'existing', 'prior', 'rothbard', 'anarcho', 'capitalist', 'gustave', 'molinari', 'auberon', 'herbert', 'opponents', 'anarcho', 'capitalists', 'dispute', 'claims', 'place', 'anarcho', 'capitalism', 'anarchism', 'form', 'anarchism', 'highly', 'controversial', 'debate', 'anarchism', 'anarcho', 'capitalism', 'anarchism', 'environment', 'late', 'seven', 'zero', 'anarchists', 'anglophone', 'european', 'countries', 'taking', 'action', 'natural', 'environment', 'eco', 'anarchists', 'green', 'anarchists', 'believe', 'deep', 'ecology', 'worldview', 'embraces', 'biodiversity', 'sustainability', 'eco', 'anarchists', 'use', 'direct', 'action', 'earth', 'destroying', 'institutions', 'particular', 'importance', 'earth', 'movement', 'takes', 'action', 'tree', 'sitting', 'important', 'component', 'ecofeminism', 'sees', 'domination', 'nature', 'metaphor', 'domination', 'women', 'green', 'anarchism', 'involves', 'critique', 'industrial', 'capitalism', 'green', 'anarchists', 'civilization', 'primitivism', 'predominantly', 'western', 'philosophy', 'advocates', 'return', 'pre', 'industrial', 'usually', 'pre', 'agricultural', 'society', 'develops', 'critique', 'industrial', 'civilization', 'critique', 'technology', 'development', 'alienated', 'people', 'natural', 'world', 'philosophy', 'develops', 'themes', 'present', 'political', 'action', 'luddites', 'writings', 'jean', 'jacques', 'rousseau', 'primitivism', 'developed', 'context', 'reclaim', 'streets', 'earth', 'earth', 'liberation', 'movements', 'john', 'zerzan', 'wrote', 'civilization', 'state', 'need', 'fall', 'anarchy', 'achieved', 'anarcho', 'primitivists', 'point', 'anti', 'authoritarian', 'nature', 'primitive', 'hunter', 'gatherer', 'societies', 'world', 'history', 'examples', 'anarchist', 'societies', 'branches', 'offshoots', 'anarchism', 'generates', 'eclectic', 'syncretic', 'philosophies', 'movements', 'western', 'social', 'formet', 'zero', 'seven', 'zero', 'number', 'new', 'movements', 'schools', 'appeared', 'stances', 'limited', 'smaller', 'numbers', 'schools', 'movements', 'listed', 'hakim', 'bey', 'post', 'left', 'anarchy', 'post', 'left', 'anarchy', 'called', 'egoist', 'anarchism', 'seeks', 'distance', 'traditional', 'left', 'communists', 'liberals', 'social', 'democrats', 'escape', 'confines', 'ideology', 'general', 'post', 'leftists', 'argue', 'anarchism', 'weakened', 'long', 'attachment', 'contrary', 'leftist', 'movements', 'single', 'issue', 'causes', 'anti', 'war', 'anti', 'nuclear', 'calls', 'synthesis', 'anarchist', 'thought', 'specifically', 'anti', 'authoritarian', 'revolutionary', 'movement', 'outside', 'leftist', 'milieu', 'focuses', 'individual', 'speaking', 'terms', 'class', 'broad', 'generalizations', 'shuns', 'organizational', 'tendencies', 'favor', 'complete', 'absence', 'explicit', 'hierarchy', 'important', 'groups', 'individuals', 'associated', 'post', 'left', 'anarchy', 'include', 'crimethinc', 'magazine', 'anarchy', 'journal', 'desire', 'armed', 'editor', 'jason', 'mcquinn', 'bob', 'black', 'hakim', 'bey', 'information', 'infoshop', 'org', 'anarchy', 'leftism', 'section', 'post', 'left', 'section', 'anarchism', 'post', 'left', 'anarchy', 'post', 'structuralism', 'term', 'postanarchism', 'originated', 'saul', 'newman', 'receiving', 'popular', 'attention', 'book', 'bakunin', 'lacan', 'refer', 'theoretical', 'synthesis', 'classical', 'anarchist', 'theory', 'poststructuralist', 'thought', 'subsequent', 'newman', 'use', 'term', 'taken', 'life', 'wide', 'range', 'ideas', 'including', 'autonomism', 'post', 'left', 'anarchy', 'situationism', 'post', 'colonialism', 'zapatismo', 'nature', 'post', 'anarchism', 'rejects', 'idea', 'coherent', 'set', 'doctrines', 'beliefs', 'difficult', 'impossible', 'state', 'degree', 'certainty', 'shouldn', 'grouped', 'rubric', 'nonetheless', 'key', 'thinkers', 'associated', 'post', 'anarchism', 'include', 'saul', 'newman', 'todd', 'gilles', 'deleuze', 'lix', 'guattari', 'external', 'reference', 'postanarchism', 'clearinghouse', 'post', 'anarchism', 'insurrectionary', 'anarchism', 'insurrectionary', 'anarchism', 'form', 'revolutionary', 'anarchism', 'critical', 'formal', 'anarchist', 'labor', 'unions', 'federations', 'insurrectionary', 'anarchists', 'advocate', 'informal', 'organization', 'including', 'small', 'affinity', 'groups', 'carrying', 'acts', 'resistance', 'struggles', 'mass', 'organizations', 'called', 'base', 'structures', 'include', 'exploited', 'individuals', 'anarchists', 'proponents', 'include', 'wolfi', 'landstreicher', 'alfredo', 'bonanno', 'author', 'works', 'including', 'armed', 'joy', 'anarchist', 'tension', 'tendency', 'represented', 'magazines', 'willful', 'disobedience', 'killing', 'king', 'abacus', 'insurrectionary', 'anarchism', 'small', 'anarchism', 'small', 'anarchism', 'term', 'different', 'unconnected', 'contexts', 'dave', 'neal', 'posited', 'term', 'opposition', 'big', 'anarchism', 'article', 'anarchism', 'ideology', 'methodology', 'big', 'anarchism', 'referred', 'ideological', 'anarchists', 'small', 'anarchism', 'applied', 'methodological', 'counterparts', 'viewed', 'anarchism', 'way', 'acting', 'historical', 'tendency', 'illegitimate', 'authority', 'anti', 'ideological', 'position', 'small', 'anarchism', 'shares', 'similarities', 'post', 'left', 'anarchy', 'david', 'graeber', 'andrej', 'grubacic', 'offer', 'alternative', 'use', 'term', 'applying', 'groups', 'movements', 'organising', 'according', 'acting', 'manner', 'consistent', 'anarchist', 'principles', 'decentralisation', 'voluntary', 'association', 'mutual', 'aid', 'network', 'model', 'crucially', 'rejection', 'idea', 'end', 'justifies', 'means', 'let', 'business', 'revolutionary', 'seize', 'state', 'power', 'begin', 'imposing', 'vision', 'point', 'gun', 'issues', 'conceptions', 'anarchist', 'society', 'political', 'philosophers', 'justify', 'support', 'state', 'means', 'regulating', 'violence', 'destruction', 'caused', 'human', 'conflict', 'minimized', 'fair', 'relationships', 'established', 'anarchists', 'argue', 'pursuit', 'ends', 'justify', 'establishment', 'state', 'argue', 'state', 'incompatible', 'goals', 'cause', 'chaos', 'violence', 'war', 'anarchists', 'argue', 'state', 'helps', 'create', 'monopoly', 'violence', 'uses', 'violence', 'advance', 'elite', 'interests', 'effort', 'dedicated', 'explaining', 'anarchist', 'societies', 'handle', 'criminality', 'anarchism', 'society', 'civil', 'rights', 'cultural', 'sovereignty', 'black', 'anarchism', 'opposes', 'existence', 'state', 'capitalism', 'subjugation', 'domination', 'people', 'color', 'favors', 'non', 'hierarchical', 'organization', 'society', 'theorists', 'include', 'ashanti', 'alston', 'lorenzo', 'komboa', 'ervin', 'sam', 'mbah', 'anarchist', 'people', 'color', 'created', 'forum', 'non', 'caucasian', 'anarchists', 'express', 'thoughts', 'racial', 'issues', 'anarchist', 'movement', 'particularly', 'united', 'states', 'national', 'anarchism', 'political', 'view', 'seeks', 'unite', 'cultural', 'ethnic', 'preservation', 'anarchist', 'views', 'adherents', 'propose', 'preventing', 'ethnic', 'groups', 'races', 'living', 'separate', 'autonomous', 'groupings', 'resisted', 'anti', 'racist', 'action', 'anarchist', 'group', 'anarchists', 'involved', 'focuses', 'publicly', 'confronting', 'racist', 'agitators', 'zapatista', 'movement', 'chiapas', 'mexico', 'cultural', 'sovereignty', 'group', 'anarchist', 'proclivities', 'neocolonialism', 'globalization', 'nearly', 'anarchists', 'oppose', 'neocolonialism', 'attempt', 'use', 'economic', 'coercion', 'global', 'scale', 'carried', 'state', 'institutions', 'world', 'bank', 'world', 'trade', 'organization', 'group', 'world', 'economic', 'forum', 'globalization', 'ambiguous', 'term', 'different', 'meanings', 'different', 'anarchist', 'factions', 'anarchists', 'use', 'term', 'mean', 'neocolonialism', 'cultural', 'imperialism', 'related', 'active', 'anti', 'globalization', 'movement', 'particularly', 'anarcho', 'capitalists', 'use', 'globalization', 'mean', 'worldwide', 'expansion', 'division', 'labor', 'trade', 'beneficial', 'long', 'governments', 'intervene', 'parallel', 'structures', 'anarchists', 'try', 'set', 'alternatives', 'state', 'supported', 'institutions', 'outposts', 'food', 'bombs', 'infoshops', 'educational', 'systems', 'home', 'schooling', 'neighborhood', 'mediation', 'arbitration', 'groups', 'idea', 'create', 'structures', 'new', 'anti', 'authoritarian', 'society', 'shell', 'old', 'authoritarian', 'technology', 'recent', 'technological', 'developments', 'anarchist', 'cause', 'easier', 'advance', 'conceivable', 'people', 'people', 'use', 'internet', 'form', 'line', 'communities', 'intellectual', 'property', 'undermined', 'gift', 'culture', 'supported', 'sharing', 'music', 'files', 'open', 'source', 'programming', 'free', 'software', 'movement', 'cyber', 'communities', 'include', 'gnu', 'linux', 'indymedia', 'wiki', 'anarchists', 'information', 'technology', 'best', 'weapon', 'defeat', 'authoritarianism', 'think', 'information', 'age', 'makes', 'eventual', 'anarchy', 'inevitable', 'crypto', 'anarchism', 'cypherpunk', 'pacifism', 'anarchists', 'consider', 'pacifism', 'opposition', 'war', 'inherent', 'philosophy', 'anarcho', 'pacifists', 'follow', 'leo', 'tolstoy', 'belief', 'non', 'violence', 'anarchists', 'war', 'activity', 'state', 'seeks', 'gain', 'consolidate', 'power', 'domestically', 'foreign', 'lands', 'subscribe', 'randolph', 'bourne', 'view', 'war', 'health', 'state', 'lot', 'anarchist', 'activity', 'anti', 'war', 'based', 'parliamentarianism', 'general', 'terms', 'anarchist', 'ethos', 'opposes', 'voting', 'elections', 'voting', 'amounts', 'condoning', 'state', 'voluntaryism', 'anarchist', 'school', 'thought', 'emphasizes', 'tending', 'garden', 'ballots', 'bullets', 'anarchist', 'case', 'voting', 'explained', 'ethics', 'voting', 'george', 'smith', 'voting', 'anarchists', 'oxymoron', 'joe', 'peacott', 'writings', 'fred', 'woodworth', 'sectarianism', 'anarchist', 'schools', 'thought', 'degree', 'sectarian', 'difference', 'opinion', 'school', 'react', 'interact', 'schools', 'panarchists', 'believe', 'possible', 'variety', 'modes', 'social', 'life', 'coexist', 'compete', 'anarchists', 'view', 'opposing', 'schools', 'social', 'impossibility', 'resist', 'interaction', 'opportunities', 'coalition', 'building', 'temporary', 'alliances', 'specific', 'purposes', 'anarchism', 'adjectives', 'criticisms', 'anarchism', 'main', 'article', 'criticisms', 'anarchism', 'violence', 'anarchism', 'associated', 'violence', 'destruction', 'people', 'seen', 'violent', 'hand', 'hand', 'frederick', 'engels', 'criticsed', 'anarchists', 'violent', 'revolution', 'certainly', 'authoritarian', 'thing', 'act', 'population', 'imposes', 'means', 'rifles', 'bayonets', 'cannon', 'authoritarian', 'means', 'victorious', 'party', 'want', 'fought', 'vain', 'maintain', 'rule', 'means', 'terror', 'arms', 'inspire', 'reactionists', 'paris', 'commune', 'lasted', 'single', 'day', 'use', 'authority', 'armed', 'people', 'bourgeois', 'utopianism', 'anarchism', 'criticised', 'unfeasible', 'plain', 'utopian', 'agree', 'nice', 'idea', 'principle', 'example', 'carl', 'landauer', 'book', 'european', 'socialism', 'criticizes', 'anarchism', 'unrealistically', 'utopian', 'holds', 'government', 'lesser', 'evil', 'society', 'repressive', 'force', 'holds', 'belief', 'ill', 'intentions', 'cease', 'repressive', 'force', 'disappears', 'absurdity', 'noted', 'anarchists', 'utopian', 'view', 'anarchism', 'example', 'benjamin', 'tucker', 'advocate', 'privately', 'funded', 'institutions', 'defend', 'individual', 'liberty', 'property', 'anarchists', 'sir', 'herbert', 'read', 'proudly', 'accept', 'characterization', 'utopian', 'class', 'character', 'marxists', 'characterised', 'anarchism', 'expression', 'class', 'interests', 'petite', 'bourgeoisie', 'lumpenproletariat', 'plekhanov', 'marxist', 'critique', 'anarchists', 'characterised', 'spoilt', 'middle', 'class', 'dilettantes', 'recently', 'relation', 'anti', 'capitalist', 'protesters', 'tacit', 'authoritarianism', 'recent', 'decades', 'anarchism', 'criticised', 'situationists', 'post', 'anarchists', 'preserving', 'tacitly', 'statist', 'authoritarian', 'bureaucratic', 'tendencies', 'dogmatic', 'facade', 'hypocrisy', 'critics', 'point', 'sexist', 'racist', 'views', 'prominent', 'anarchists', 'notably', 'proudhon', 'bakunin', 'examples', 'hypocrisy', 'inherent', 'anarchism', 'anarchists', 'dismiss', 'personal', 'prejudices', 'century', 'theorists', 'influence', 'beliefs', 'present', 'day', 'anarchists', 'criticise', 'modern', 'anarchism', 'continuing', 'eurocentric', 'reference', 'impact', 'anarchist', 'thinkers', 'like', 'proudhon', 'fascism', 'groups', 'like', 'cercle', 'proudhon', 'anarcho', 'capitalist', 'bryan', 'caplan', 'argues', 'treatment', 'fascists', 'suspected', 'fascist', 'sympathizers', 'spanish', 'anarchists', 'spanish', 'civil', 'war', 'form', 'illegitimate', 'coercion', 'making', 'proffessed', 'anarchists', 'ultimately', 'faction', 'totalitarians', 'alongside', 'communists', 'fascists', 'criticizes', 'willingness', 'cnt', 'join', 'statist', 'republican', 'government', 'civil', 'war', 'references', 'stanley', 'payne', 'book', 'franco', 'regime', 'claims', 'cnt', 'entered', 'negotiations', 'fascist', 'government', 'years', 'war', 'cultural', 'phenomena', 'noam', 'chomsky', 'kind', 'anarchism', 'easily', 'encountered', 'popular', 'culture', 'represented', 'celebrities', 'publicly', 'identify', 'anarchists', 'anarchists', 'reject', 'focus', 'famous', 'living', 'individuals', 'inherently', 'litist', 'following', 'figures', 'examples', 'prominent', 'publicly', 'self', 'avowed', 'anarchists', 'mit', 'professor', 'linguistics', 'noam', 'chomsky', 'science', 'fiction', 'author', 'ursula', 'guin', 'social', 'historian', 'howard', 'zinn', 'entertainer', 'author', 'hans', 'alfredsson', 'avant', 'garde', 'artist', 'nicol', 'rossell', 'denmark', 'freetown', 'christiania', 'created', 'downtown', 'copenhagen', 'housing', 'employment', 'crisis', 'western', 'europe', 'led', 'formation', 'communes', 'squatter', 'movements', 'like', 'thriving', 'barcelona', 'catalonia', 'militant', 'resistance', 'neo', 'nazi', 'groups', 'places', 'like', 'germany', 'uprisings', 'autonomous', 'marxism', 'situationist', 'autonomist', 'groups', 'france', 'italy', 'helped', 'popularity', 'anti', 'authoritarian', 'non', 'capitalist', 'ideas', 'musical', 'styles', 'anarchism', 'rose', 'popularity', 'famous', 'linking', 'anarchist', 'ideas', 'music', 'punk', 'rock', 'modern', 'age', 'hip', 'hop', 'folk', 'music', 'important', 'mediums', 'spreading', 'anarchist', 'message', 'associated', 'punk', 'rock', 'movement', 'band', 'crass', 'celebrated', 'anarchist', 'pacifist', 'ideas', 'dutch', 'punk', 'band', 'exemplifies', 'expression', 'details', 'anarcho', 'punk', 'concepts', 'relevant', 'topic', 'anarchism', 'brief', 'summary', 'extensive', 'list', 'anarchist', 'concepts', 'individualist', 'anarchism', 'anarcho', 'communism', 'anarcho', 'syndicalism', 'anarcho', 'capitalism', 'mutualism', 'christian', 'anarchism', 'anarcha', 'feminism', 'green', 'anarchism', 'nihilist', 'anarchism', 'anarcho', 'nationalism', 'black', 'anarchism', 'national', 'anarchism', 'post', 'anarchism', 'post', 'left', 'anarchism', 'libertarian', 'socialism', 'anarchist', 'symbolism', 'list', 'anarchism', 'links', 'list', 'anarchists', 'list', 'anarchist', 'organizations', 'major', 'conflicts', 'anarchist', 'thought', 'past', 'present', 'anarchist', 'communities', 'historical', 'events', 'paris', 'commune', 'seven', 'haymarket', 'riot', 'makhnovschina', 'seven', 'kronstadt', 'rebellion', 'spanish', 'revolution', 'anarchism', 'spain', 'spanish', 'revolution', 'france', 'wto', 'meeting', 'seattle', 'books', 'following', 'sample', 'books', 'referenced', 'page', 'complete', 'list', 'list', 'anarchist', 'books', 'mikhail', 'bakunin', 'god', 'state', 'emma', 'goldman', 'anarchism', 'essays', 'peter', 'kropotkin', 'mutual', 'aid', 'pierre', 'joseph', 'proudhon', 'property', 'rudolf', 'rocker', 'anarcho', 'syndicalism', 'murray', 'rothbard', 'ethics', 'liberty', 'max', 'stirner', 'ego', 'leo', 'tolstoy', 'kingdom', 'god', 'anarchism', 'region', 'culture', 'african', 'anarchism', 'anarchism', 'spain', 'anarchism', 'english', 'tradition', 'chinese', 'anarchism', 'references', 'notes', 'corresponding', 'reference', 'article', 'politics', 'appleton', 'boston', 'anarchists', 'yarros', 'victor', 'liberty', 'vii', 'january', 'noam', 'chomsky', 'anarchism', 'noam', 'chomsky', 'external', 'links', 'overwhelming', 'diversity', 'number', 'links', 'relating', 'anarchism', 'extensively', 'covered', 'links', 'subpage', 'anarchoblogs', 'blogs', 'anarchists', 'anarchy', 'archives', 'extensively', 'archives', 'information', 'relating', 'famous', 'anarchists', 'includes', 'books', 'publications', 'hundreds', 'anarchists', 'listed', 'short', 'bios', 'links', 'dedicated', 'pages', 'daily', 'bleed', 'anarchist', 'encyclopedia', 'infoshop', 'org', 'wikipedia', 'page', 'industrial', 'workers', 'world', 'anarchism', 'forms', 'government', 'political', 'ideology', 'entry', 'points', 'political', 'theories', 'social', 'philosophy', 'autism', 'classified', 'neurodevelopmental', 'disorder', 'manifests', 'markedly', 'abnormal', 'social', 'interaction', 'communication', 'ability', 'patterns', 'interests', 'patterns', 'behavior', 'specific', 'etiology', 'autism', 'unknown', 'researchers', 'suspect', 'autism', 'results', 'genetically', 'mediated', 'vulnerabilities', 'environmental', 'triggers', 'disagreement', 'magnitude', 'nature', 'mechanisms', 'environmental', 'factors', 'researchers', 'seven', 'major', 'genes', 'prevalent', 'individuals', 'diagnosed', 'autistic', 'estimate', 'autism', 'occurs', 'united', 'states', 'child', 'national', 'institute', 'mental', 'health', 'gives', 'conservative', 'estimate', 'zero', 'zero', 'zero', 'families', 'autistic', 'child', 'odds', 'second', 'autistic', 'child', 'high', 'diagnosis', 'based', 'list', 'psychiatric', 'criteria', 'series', 'standardized', 'clinical', 'tests', 'autism', 'physiologically', 'obvious', 'complete', 'physical', 'neurological', 'evaluation', 'typically', 'diagnosing', 'autism', 'speculate', 'autism', 'single', 'condition', 'group', 'distinct', 'conditions', 'manifest', 'similar', 'ways', 'definition', 'autism', 'manifest', 'delays', 'social', 'interaction', 'language', 'social', 'communication', 'symbolic', 'imaginative', 'play', 'onset', 'prior', 'age', 'years', 'according', 'diagnostic', 'statistical', 'manual', 'mental', 'disorders', 'icd', 'zero', 'says', 'symptoms', 'manifest', 'age', 'years', 'large', 'increases', 'reported', 'incidence', 'autism', 'reasons', 'heavily', 'debated', 'researchers', 'psychology', 'related', 'fields', 'scientific', 'community', 'children', 'autism', 'improved', 'social', 'skills', 'point', 'fully', 'participate', 'mainstream', 'education', 'social', 'events', 'lingering', 'concerns', 'absolute', 'cure', 'autism', 'impossible', 'current', 'technology', 'autistic', 'children', 'adults', 'able', 'communicate', 'writing', 'opposed', 'attempts', 'cure', 'conditions', 'conditions', 'history', 'hans', 'asperger', 'described', 'form', 'autism', 'zero', 'later', 'known', 'asperger', 'syndrome', 'word', 'autism', 'english', 'language', 'swiss', 'psychiatrist', 'eugene', 'bleuler', 'number', 'american', 'journal', 'insanity', 'comes', 'greek', 'word', 'self', 'classification', 'autism', 'occur', 'middle', 'twentieth', 'century', 'psychiatrist', 'leo', 'kanner', 'johns', 'hopkins', 'hospital', 'baltimore', 'reported', 'child', 'patients', 'striking', 'behavioral', 'similarities', 'introduced', 'label', 'early', 'infantile', 'autism', 'suggested', 'autism', 'greek', 'autos', 'meaning', 'self', 'fact', 'children', 'lack', 'people', 'kanner', 'paper', 'subject', 'published', 'defunct', 'journal', 'nervous', 'child', 'characteristic', 'originally', 'described', 'regarded', 'typical', 'autistic', 'spectrum', 'disorders', 'time', 'austrian', 'scientist', 'hans', 'asperger', 'described', 'different', 'form', 'autism', 'known', 'asperger', 'syndrome', 'widespread', 'recognition', 'asperger', 'work', 'delayed', 'world', 'war', 'germany', 'fact', 'seminal', 'paper', 'wasn', 'translated', 'english', 'zero', 'years', 'majority', 'work', 'wasn', 'widely', 'read', 'seven', 'conditions', 'described', 'today', 'listed', 'diagnostic', 'statistical', 'manual', 'mental', 'disorders', 'dsm', 'fourth', 'edition', 'text', 'revision', 'pervasive', 'developmental', 'disorders', 'pdd', 'referred', 'today', 'autism', 'spectrum', 'disorders', 'asd', 'conditions', 'characterized', 'varying', 'degrees', 'difference', 'communication', 'skills', 'social', 'interactions', 'restricted', 'repetitive', 'stereotyped', 'patterns', 'behavior', 'clinicians', 'today', 'solely', 'use', 'dsm', 'criteria', 'determining', 'diagnosis', 'autism', 'based', 'absence', 'delay', 'certain', 'developmental', 'milestones', 'clinicians', 'instead', 'use', 'alternate', 'means', 'combination', 'thereof', 'accurately', 'determine', 'diagnosis', 'terminology', 'referring', 'diagnosed', 'autism', 'term', 'autistic', 'term', 'person', 'autism', 'instead', 'referred', 'person', 'terminology', 'autistic', 'community', 'generally', 'prefers', 'term', 'autistic', 'reasons', 'fairly', 'controversial', 'article', 'uses', 'term', 'autistic', 'talk', 'page', 'characteristics', 'leo', 'kanner', 'introduced', 'label', 'early', 'infantile', 'autism', 'great', 'diversity', 'skills', 'behaviors', 'individuals', 'diagnosed', 'autistic', 'physicians', 'arrive', 'different', 'conclusions', 'appropriate', 'diagnosis', 'sensory', 'autistic', 'different', 'sensory', 'people', 'certain', 'stimulations', 'affect', 'autistic', 'differently', 'non', 'autistic', 'degree', 'sensory', 'affected', 'varies', 'wildly', 'autistic', 'person', 'professionals', 'pediatric', 'care', 'development', 'look', 'early', 'indicators', 'autism', 'order', 'initiate', 'treatment', 'early', 'possible', 'people', 'believe', 'treatment', 'autism', 'believe', 'autism', 'disorder', 'believe', 'treatment', 'harm', 'good', 'social', 'development', 'typically', 'developing', 'infants', 'social', 'beings', 'early', 'life', 'things', 'gaze', 'people', 'turn', 'voices', 'grasp', 'finger', 'smile', 'contrast', 'autistic', 'children', 'prefer', 'objects', 'faces', 'tremendous', 'difficulty', 'learning', 'engage', 'everyday', 'human', 'interaction', 'months', 'life', 'indifferent', 'people', 'avoid', 'eye', 'contact', 'interact', 'non', 'autistic', 'children', 'children', 'autism', 'appear', 'prefer', 'company', 'passively', 'accept', 'things', 'hugs', 'cuddling', 'reciprocating', 'resist', 'attention', 'altogether', 'later', 'seldom', 'seek', 'comfort', 'respond', 'parents', 'displays', 'anger', 'affection', 'typical', 'way', 'research', 'suggested', 'autistic', 'children', 'attached', 'parents', 'expression', 'attachment', 'unusual', 'difficult', 'interpret', 'parents', 'looked', 'forward', 'joys', 'cuddling', 'teaching', 'playing', 'child', 'feel', 'crushed', 'lack', 'expected', 'attachment', 'behavior', 'children', 'autism', 'appear', 'lack', 'theory', 'mind', 'ability', 'things', 'person', 'perspective', 'behavior', 'cited', 'exclusive', 'human', 'beings', 'age', 'possibly', 'higher', 'primates', 'adult', 'gorillas', 'chimpanzees', 'bonobos', 'typical', 'year', 'olds', 'develop', 'insights', 'people', 'different', 'knowledge', 'feelings', 'intentions', 'interpretations', 'based', 'social', 'cues', 'gestures', 'facial', 'expressions', 'individual', 'autism', 'lack', 'interpretation', 'skills', 'inability', 'leaves', 'unable', 'predict', 'understand', 'people', 'actions', 'social', 'alienation', 'autistic', 'asperger', 'people', 'intense', 'childhood', 'imaginary', 'friends', 'companionship', 'having', 'imaginary', 'friend', 'necessarily', 'sign', 'autism', 'occurs', 'non', 'autistic', 'children', 'universal', 'common', 'autistic', 'people', 'regulate', 'behavior', 'form', 'crying', 'verbal', 'outbursts', 'proportion', 'situation', 'individuals', 'autism', 'generally', 'prefer', 'consistent', 'routines', 'environments', 'react', 'negatively', 'changes', 'uncommon', 'individuals', 'exhibit', 'aggression', 'increased', 'levels', 'self', 'stimulatory', 'behavior', 'self', 'injury', 'extensive', 'withdrawal', 'overwhelming', 'situations', 'sensory', 'key', 'indicator', 'clinicians', 'making', 'proper', 'assessment', 'autism', 'include', 'looking', 'symptoms', 'like', 'sensory', 'integration', 'dysfunction', 'children', 'exhibit', 'problems', 'coping', 'normal', 'sensory', 'input', 'indicators', 'disorder', 'include', 'oversensitivity', 'underreactivity', 'touch', 'movement', 'sights', 'sounds', 'physical', 'clumsiness', 'carelessness', 'poor', 'body', 'awareness', 'tendency', 'easily', 'distracted', 'impulsive', 'physical', 'verbal', 'behavior', 'activity', 'level', 'unusually', 'high', 'low', 'unwinding', 'calming', 'oneself', 'difficulty', 'learning', 'new', 'movements', 'difficulty', 'making', 'transitions', 'situation', 'social', 'emotional', 'problems', 'delays', 'speech', 'language', 'motor', 'skills', 'specific', 'learning', 'difficulties', 'delays', 'academic', 'achievement', 'common', 'example', 'individual', 'autism', 'hearing', 'person', 'autism', 'trouble', 'hearing', 'certain', 'people', 'people', 'louder', 'usual', 'person', 'autism', 'unable', 'filter', 'sounds', 'certain', 'situations', 'large', 'crowd', 'people', 'cocktail', 'party', 'effect', 'autism', 'tends', 'vary', 'person', 'person', 'examples', 'apply', 'autistic', 'noted', 'sensory', 'difficulties', 'reportedly', 'common', 'autistics', 'dsm', 'diagnostic', 'criteria', 'autistic', 'disorder', 'communication', 'difficulties', 'age', 'typical', 'children', 'passed', 'predictable', 'language', 'learning', 'milestones', 'earliest', 'babbling', 'birthday', 'typical', 'toddler', 'says', 'words', 'turns', 'hears', 'points', 'wants', 'toy', 'offered', 'distasteful', 'makes', 'clear', 'answer', 'speech', 'development', 'people', 'autism', 'takes', 'different', 'paths', 'remain', 'mute', 'lives', 'fully', 'literate', 'able', 'communicate', 'ways', 'images', 'sign', 'language', 'typing', 'far', 'natural', 'infants', 'later', 'signs', 'autism', 'coo', 'babble', 'months', 'life', 'stop', 'soon', 'delayed', 'developing', 'language', 'late', 'teenage', 'years', 'inability', 'speak', 'mean', 'people', 'autism', 'unintelligent', 'unaware', 'given', 'appropriate', 'accommodations', 'happily', 'converse', 'hours', 'online', 'chat', 'rooms', 'discussion', 'boards', 'websites', 'communication', 'devices', 'autism', 'community', 'social', 'events', 'autreat', 'speak', 'use', 'language', 'unusual', 'ways', 'retaining', 'features', 'earlier', 'stages', 'language', 'development', 'long', 'periods', 'lives', 'speak', 'single', 'words', 'repeat', 'phrase', 'repeat', 'hear', 'condition', 'called', 'echolalia', 'sing', 'song', 'repetitions', 'particular', 'calming', 'joyous', 'activity', 'autistic', 'adults', 'engage', 'people', 'autism', 'strong', 'tonal', 'sense', 'understand', 'spoken', 'language', 'children', 'exhibit', 'slight', 'delays', 'language', 'precocious', 'language', 'unusually', 'large', 'vocabularies', 'great', 'difficulty', 'sustaining', 'typical', 'conversations', 'non', 'autistic', 'conversation', 'hard', 'carry', 'monologue', 'favorite', 'subject', 'giving', 'opportunity', 'comment', 'given', 'chance', 'converse', 'autistics', 'comfortably', 'parallel', 'monologue', 'taking', 'turns', 'expressing', 'views', 'information', 'neurotypicals', 'people', 'autism', 'trouble', 'understanding', 'autistic', 'body', 'languages', 'vocal', 'tones', 'phraseology', 'people', 'autism', 'similarly', 'trouble', 'things', 'people', 'autism', 'particular', 'autistic', 'language', 'abilities', 'tend', 'highly', 'literal', 'people', 'autism', 'inappropriately', 'attribute', 'hidden', 'meaning', 'people', 'autism', 'expect', 'person', 'autism', 'sense', 'unstated', 'meaning', 'words', 'body', 'language', 'people', 'autism', 'difficult', 'people', 'understand', 'facial', 'expressions', 'movements', 'gestures', 'easily', 'understood', 'people', 'autism', 'match', 'people', 'tone', 'voice', 'subtle', 'inflection', 'reflecting', 'feelings', 'auditory', 'person', 'autism', 'sense', 'fluctuations', 'non', 'autistic', 'people', 'like', 'high', 'pitched', 'sing', 'song', 'flat', 'robot', 'like', 'voice', 'common', 'autistic', 'children', 'autistic', 'children', 'relatively', 'good', 'language', 'skills', 'speak', 'like', 'little', 'adults', 'communicating', 'current', 'age', 'level', 'things', 'lead', 'problems', 'non', 'autistic', 'people', 'unfamiliar', 'autistic', 'body', 'language', 'autistic', 'natural', 'language', 'tend', 'speech', 'autistic', 'people', 'struggle', 'let', 'people', 'know', 'need', 'anybody', 'situation', 'scream', 'frustration', 'resort', 'grabbing', 'want', 'waiting', 'non', 'autistic', 'people', 'learn', 'communicate', 'people', 'autism', 'communication', 'difficulties', 'contribute', 'autistic', 'people', 'socially', 'anxious', 'depressed', 'repetitive', 'behaviors', 'people', 'autism', 'usually', 'appear', 'physically', 'normal', 'good', 'muscle', 'control', 'unusual', 'repetitive', 'motions', 'known', 'self', 'stimulation', 'stimming', 'set', 'apart', 'behaviors', 'extreme', 'highly', 'apparent', 'subtle', 'children', 'older', 'individuals', 'spend', 'lot', 'time', 'repeatedly', 'flapping', 'arms', 'wiggling', 'toes', 'suddenly', 'freeze', 'position', 'children', 'spend', 'hours', 'lining', 'cars', 'trains', 'certain', 'way', 'pretend', 'play', 'accidentally', 'moves', 'toys', 'child', 'tremendously', 'upset', 'autistic', 'children', 'need', 'demand', 'absolute', 'consistency', 'environment', 'slight', 'change', 'routine', 'mealtimes', 'dressing', 'taking', 'bath', 'going', 'school', 'certain', 'time', 'route', 'extremely', 'disturbing', 'people', 'autism', 'persistent', 'intense', 'preoccupation', 'example', 'child', 'obsessed', 'learning', 'vacuum', 'cleaners', 'train', 'schedules', 'lighthouses', 'great', 'different', 'languages', 'numbers', 'symbols', 'science', 'topics', 'repetitive', 'behaviors', 'extend', 'spoken', 'word', 'perseveration', 'single', 'word', 'phrase', 'specific', 'number', 'times', 'child', 'daily', 'routine', 'effects', 'education', 'children', 'autism', 'affected', 'symptoms', 'day', 'unusual', 'characteristics', 'set', 'apart', 'everyday', 'normal', 'student', 'trouble', 'understanding', 'people', 'thoughts', 'feelings', 'trouble', 'understanding', 'teacher', 'telling', 'understand', 'facial', 'expressions', 'vocal', 'variations', 'hold', 'meanings', 'misinterpret', 'emotion', 'instructor', 'displaying', 'inability', 'fully', 'decipher', 'world', 'makes', 'education', 'stressful', 'teachers', 'need', 'aware', 'student', 'disorder', 'able', 'help', 'student', 'best', 'lessons', 'taught', 'students', 'learn', 'better', 'visual', 'aids', 'better', 'able', 'understand', 'material', 'presented', 'way', 'teachers', 'create', 'visual', 'schedules', 'autistic', 'students', 'allows', 'student', 'know', 'going', 'day', 'know', 'prepare', 'activity', 'autistic', 'children', 'trouble', 'going', 'activity', 'visual', 'schedule', 'help', 'reduce', 'stress', 'research', 'shown', 'working', 'pairs', 'beneficial', 'autistic', 'children', 'autistic', 'students', 'problems', 'schools', 'language', 'communication', 'socialization', 'feel', 'self', 'conscious', 'feel', 'outcasts', 'allowing', 'work', 'peers', 'friends', 'turn', 'help', 'cope', 'problems', 'arise', 'integrated', 'mainstream', 'environment', 'classroom', 'teacher', 'aide', 'useful', 'student', 'aide', 'able', 'elaborate', 'directions', 'teacher', 'time', 'explain', 'autistic', 'child', 'aide', 'facilitate', 'autistic', 'child', 'way', 'allow', 'stay', 'similar', 'level', 'rest', 'class', 'allows', 'partially', 'lesson', 'structure', 'child', 'able', 'stay', 'normal', 'classroom', 'given', 'extra', 'help', 'need', 'different', 'techniques', 'teachers', 'use', 'assist', 'students', 'teacher', 'needs', 'familiar', 'child', 'disorder', 'know', 'work', 'best', 'particular', 'child', 'child', 'going', 'different', 'teachers', 'able', 'adjust', 'students', 'autism', 'spectrum', 'disorders', 'typically', 'high', 'levels', 'anxiety', 'stress', 'particularly', 'social', 'environments', 'like', 'school', 'student', 'exhibits', 'aggressive', 'explosive', 'behavior', 'important', 'educational', 'teams', 'recognize', 'impact', 'stress', 'anxiety', 'preparing', 'students', 'new', 'situations', 'writing', 'social', 'stories', 'lower', 'anxiety', 'teaching', 'social', 'emotional', 'concepts', 'systematic', 'teaching', 'approaches', 'incredible', 'point', 'scale', 'cognitive', 'behavioral', 'strategies', 'increase', 'student', 'ability', 'control', 'excessive', 'behavioral', 'reactions', 'dsm', 'definition', 'autism', 'defined', 'section', 'zero', 'zero', 'diagnostic', 'statistical', 'manual', 'mental', 'disorders', 'dsm', 'total', 'items', 'qualitative', 'impairment', 'social', 'interaction', 'manifested', 'following', 'marked', 'impairment', 'use', 'multiple', 'nonverbal', 'behaviors', 'eye', 'eye', 'gaze', 'facial', 'expression', 'body', 'postures', 'gestures', 'regulate', 'social', 'interaction', 'failure', 'develop', 'peer', 'relationships', 'appropriate', 'developmental', 'level', 'lack', 'spontaneous', 'seeking', 'share', 'enjoyment', 'interests', 'achievements', 'people', 'lack', 'showing', 'bringing', 'pointing', 'objects', 'lack', 'social', 'emotional']\n"
          ]
        }
      ],
      "source": [
        "sentences = [remove_stopwords(' '.join(sentences[i])).split(' ') for i in range(len(sentences))]\n",
        "sentences = [[ele for ele in sub if len(ele) > 2] for sub in sentences]\n",
        "\n",
        "# sentence example\n",
        "print(sentences[0])"
      ]
    },
    {
      "attachments": {},
      "cell_type": "markdown",
      "metadata": {
        "id": "MOqZb32P7B5e"
      },
      "source": [
        "## Word2Vec"
      ]
    },
    {
      "attachments": {},
      "cell_type": "markdown",
      "metadata": {
        "id": "TyUiko386mns"
      },
      "source": [
        "Once we have the data organized the way we wanted - as a list of lists of *strings* - we can train an initial Word2Vec model. This model presents a series of parameters that can be varied in order to find the model that best fits the data. First, we will separate this section into two subsections depending on the type of model we are using, CBOW or Skip-gram, defined by the **sg** parameter of the Word2Vec function, where 0 means CBOW and 1 means Skip-gram, according to the documentation.\n",
        "\n",
        "Both models are responsible for creating Word Embeddings, which means that each word in the corpus will be represented through an N-dimensional vector, where N is the **size** parameter of the Word2Vec function. The value of N must be chosen based on the size of the corpus to be used for training. Normally, \"100-dimensional\" vectors are used to represent words when you have a corpus with a high number of examples for each word among tens of thousands of words.\n",
        "\n",
        "The way Skip-gram and CBOW work and their differences lead us to the parameter **window**, responsible for determining the size of the context around the word.\n",
        "\n",
        "- CBOW: given context, we want to predict the central word.\n",
        "- Skip-gram: given a word, we want to predict the context (words around).\n",
        "\n",
        "Note then that when we change the **window** parameter, we change the size of the input for the CBOW and the output for the Skip-gram.\n",
        "\n",
        "To avoid the model having to deal with words that appear a few times, we can restrict Word2Vec based on the number of times a word appears in the corpus. The **min_count** parameter plays this role. It's common to want to avoid only very rare indeed words, around 1 to 5 times."
      ]
    },
    {
      "attachments": {},
      "cell_type": "markdown",
      "metadata": {
        "id": "V_9WTYwcY7x6"
      },
      "source": [
        "Parameters tested:\n",
        "- Vector size (size) = (100, 150, 200 and 500)\n",
        "- Window (window) = (5, 10, 15, 20)\n",
        "- Min_count = (3, 6, 9, 12)\n",
        "- Negative sampling = (0, 5)\n",
        "- Ns_exponent: We do not vary this parameter, leaving it at the *default* value of the original paper.\n",
        "\n",
        "The tested values for the parameters can be changed for the CBOW and the Skip-gram individually in the training chunks of each model in the following sections. In this original file, the parameters that presented the most interesting results for the analysis of analogies are established."
      ]
    },
    {
      "attachments": {},
      "cell_type": "markdown",
      "metadata": {
        "id": "PAAf_Ph47Qrl"
      },
      "source": [
        "### CBOW"
      ]
    },
    {
      "cell_type": "code",
      "execution_count": 3,
      "metadata": {
        "id": "cmUK4uw-7r8r"
      },
      "outputs": [
        {
          "name": "stderr",
          "output_type": "stream",
          "text": [
            "2023-06-21 22:35:26,069 : WARNING : consider setting layer size to a multiple of 4 for greater performance\n",
            "2023-06-21 22:35:26,070 : INFO : collecting all words and their counts\n",
            "2023-06-21 22:35:26,071 : INFO : PROGRESS: at sentence #0, processed 0 words, keeping 0 word types\n",
            "2023-06-21 22:35:27,733 : INFO : collected 252861 word types from a corpus of 8553373 raw words and 1701 sentences\n",
            "2023-06-21 22:35:27,733 : INFO : Loading a fresh vocabulary\n",
            "2023-06-21 22:35:28,082 : INFO : effective_min_count=6 retains 62703 unique words (24% of original 252861, drops 190158)\n",
            "2023-06-21 22:35:28,082 : INFO : effective_min_count=6 leaves 8228908 word corpus (96% of original 8553373, drops 324465)\n",
            "2023-06-21 22:35:28,241 : INFO : deleting the raw counts dictionary of 252861 items\n",
            "2023-06-21 22:35:28,245 : INFO : sample=0.001 downsamples 3 most-common words\n",
            "2023-06-21 22:35:28,246 : INFO : downsampling leaves estimated 7954488 word corpus (96.7% of prior 8228908)\n",
            "2023-06-21 22:35:28,307 : INFO : constructing a huffman tree from 62703 words\n",
            "2023-06-21 22:35:29,495 : INFO : built huffman tree with maximum node depth 20\n",
            "2023-06-21 22:35:29,513 : INFO : estimated required memory for 62703 words and 150 dimensions: 119135700 bytes\n",
            "2023-06-21 22:35:29,513 : INFO : resetting layer weights\n",
            "2023-06-21 22:35:38,861 : INFO : training model with 4 workers on 62703 vocabulary and 150 features, using sg=0 hs=1 sample=0.001 negative=0 window=20\n",
            "2023-06-21 22:35:39,868 : INFO : EPOCH 1 - PROGRESS: at 11.11% examples, 862204 words/s, in_qsize 7, out_qsize 0\n",
            "2023-06-21 22:35:40,871 : INFO : EPOCH 1 - PROGRESS: at 22.52% examples, 884145 words/s, in_qsize 7, out_qsize 0\n",
            "2023-06-21 22:35:41,875 : INFO : EPOCH 1 - PROGRESS: at 33.04% examples, 874376 words/s, in_qsize 7, out_qsize 0\n",
            "2023-06-21 22:35:42,885 : INFO : EPOCH 1 - PROGRESS: at 44.33% examples, 878719 words/s, in_qsize 7, out_qsize 0\n",
            "2023-06-21 22:35:43,886 : INFO : EPOCH 1 - PROGRESS: at 54.97% examples, 872591 words/s, in_qsize 7, out_qsize 0\n",
            "2023-06-21 22:35:44,904 : INFO : EPOCH 1 - PROGRESS: at 66.26% examples, 874715 words/s, in_qsize 7, out_qsize 0\n",
            "2023-06-21 22:35:45,926 : INFO : EPOCH 1 - PROGRESS: at 77.43% examples, 872568 words/s, in_qsize 7, out_qsize 0\n",
            "2023-06-21 22:35:46,932 : INFO : EPOCH 1 - PROGRESS: at 88.48% examples, 872618 words/s, in_qsize 7, out_qsize 0\n",
            "2023-06-21 22:35:47,936 : INFO : EPOCH 1 - PROGRESS: at 99.65% examples, 873892 words/s, in_qsize 5, out_qsize 0\n",
            "2023-06-21 22:35:47,945 : INFO : worker thread finished; awaiting finish of 3 more threads\n",
            "2023-06-21 22:35:47,947 : INFO : worker thread finished; awaiting finish of 2 more threads\n",
            "2023-06-21 22:35:47,957 : INFO : worker thread finished; awaiting finish of 1 more threads\n",
            "2023-06-21 22:35:47,969 : INFO : worker thread finished; awaiting finish of 0 more threads\n",
            "2023-06-21 22:35:47,969 : INFO : EPOCH - 1 : training on 8553373 raw words (7954719 effective words) took 9.1s, 873590 effective words/s\n",
            "2023-06-21 22:35:48,980 : INFO : EPOCH 2 - PROGRESS: at 11.17% examples, 864795 words/s, in_qsize 7, out_qsize 0\n",
            "2023-06-21 22:35:49,980 : INFO : EPOCH 2 - PROGRESS: at 22.28% examples, 874165 words/s, in_qsize 7, out_qsize 0\n",
            "2023-06-21 22:35:50,982 : INFO : EPOCH 2 - PROGRESS: at 32.45% examples, 859104 words/s, in_qsize 7, out_qsize 0\n",
            "2023-06-21 22:35:51,989 : INFO : EPOCH 2 - PROGRESS: at 43.03% examples, 853859 words/s, in_qsize 7, out_qsize 0\n",
            "2023-06-21 22:35:52,995 : INFO : EPOCH 2 - PROGRESS: at 52.09% examples, 826326 words/s, in_qsize 7, out_qsize 0\n",
            "2023-06-21 22:35:54,003 : INFO : EPOCH 2 - PROGRESS: at 62.02% examples, 820248 words/s, in_qsize 7, out_qsize 0\n",
            "2023-06-21 22:35:55,005 : INFO : EPOCH 2 - PROGRESS: at 72.55% examples, 822570 words/s, in_qsize 7, out_qsize 0\n",
            "2023-06-21 22:35:56,010 : INFO : EPOCH 2 - PROGRESS: at 83.19% examples, 823364 words/s, in_qsize 7, out_qsize 0\n",
            "2023-06-21 22:35:57,036 : INFO : EPOCH 2 - PROGRESS: at 93.24% examples, 818943 words/s, in_qsize 7, out_qsize 0\n",
            "2023-06-21 22:35:57,648 : INFO : worker thread finished; awaiting finish of 3 more threads\n",
            "2023-06-21 22:35:57,651 : INFO : worker thread finished; awaiting finish of 2 more threads\n",
            "2023-06-21 22:35:57,652 : INFO : worker thread finished; awaiting finish of 1 more threads\n",
            "2023-06-21 22:35:57,670 : INFO : worker thread finished; awaiting finish of 0 more threads\n",
            "2023-06-21 22:35:57,670 : INFO : EPOCH - 2 : training on 8553373 raw words (7954329 effective words) took 9.7s, 820216 effective words/s\n",
            "2023-06-21 22:35:58,680 : INFO : EPOCH 3 - PROGRESS: at 10.05% examples, 780158 words/s, in_qsize 7, out_qsize 0\n",
            "2023-06-21 22:35:59,680 : INFO : EPOCH 3 - PROGRESS: at 20.52% examples, 804237 words/s, in_qsize 7, out_qsize 0\n",
            "2023-06-21 22:36:00,703 : INFO : EPOCH 3 - PROGRESS: at 30.81% examples, 809403 words/s, in_qsize 7, out_qsize 0\n",
            "2023-06-21 22:36:01,709 : INFO : EPOCH 3 - PROGRESS: at 41.27% examples, 814159 words/s, in_qsize 7, out_qsize 0\n",
            "2023-06-21 22:36:02,711 : INFO : EPOCH 3 - PROGRESS: at 51.85% examples, 820049 words/s, in_qsize 7, out_qsize 0\n",
            "2023-06-21 22:36:03,722 : INFO : EPOCH 3 - PROGRESS: at 62.38% examples, 822481 words/s, in_qsize 7, out_qsize 0\n",
            "2023-06-21 22:36:04,724 : INFO : EPOCH 3 - PROGRESS: at 73.02% examples, 825581 words/s, in_qsize 7, out_qsize 0\n",
            "2023-06-21 22:36:05,729 : INFO : EPOCH 3 - PROGRESS: at 83.77% examples, 827295 words/s, in_qsize 7, out_qsize 0\n",
            "2023-06-21 22:36:06,730 : INFO : EPOCH 3 - PROGRESS: at 94.36% examples, 829235 words/s, in_qsize 7, out_qsize 0\n",
            "2023-06-21 22:36:07,246 : INFO : worker thread finished; awaiting finish of 3 more threads\n",
            "2023-06-21 22:36:07,250 : INFO : worker thread finished; awaiting finish of 2 more threads\n",
            "2023-06-21 22:36:07,254 : INFO : worker thread finished; awaiting finish of 1 more threads\n",
            "2023-06-21 22:36:07,263 : INFO : worker thread finished; awaiting finish of 0 more threads\n",
            "2023-06-21 22:36:07,265 : INFO : EPOCH - 3 : training on 8553373 raw words (7954301 effective words) took 9.6s, 829284 effective words/s\n",
            "2023-06-21 22:36:08,267 : INFO : EPOCH 4 - PROGRESS: at 10.64% examples, 832032 words/s, in_qsize 7, out_qsize 0\n",
            "2023-06-21 22:36:09,275 : INFO : EPOCH 4 - PROGRESS: at 21.58% examples, 846515 words/s, in_qsize 7, out_qsize 0\n",
            "2023-06-21 22:36:10,276 : INFO : EPOCH 4 - PROGRESS: at 32.22% examples, 852652 words/s, in_qsize 7, out_qsize 0\n",
            "2023-06-21 22:36:11,281 : INFO : EPOCH 4 - PROGRESS: at 43.09% examples, 855744 words/s, in_qsize 7, out_qsize 0\n",
            "2023-06-21 22:36:12,289 : INFO : EPOCH 4 - PROGRESS: at 53.85% examples, 855030 words/s, in_qsize 7, out_qsize 0\n",
            "2023-06-21 22:36:13,289 : INFO : EPOCH 4 - PROGRESS: at 64.61% examples, 855515 words/s, in_qsize 7, out_qsize 0\n",
            "2023-06-21 22:36:14,291 : INFO : EPOCH 4 - PROGRESS: at 75.72% examples, 858631 words/s, in_qsize 7, out_qsize 0\n",
            "2023-06-21 22:36:15,299 : INFO : EPOCH 4 - PROGRESS: at 86.65% examples, 858500 words/s, in_qsize 7, out_qsize 0\n",
            "2023-06-21 22:36:16,302 : INFO : EPOCH 4 - PROGRESS: at 97.88% examples, 861817 words/s, in_qsize 7, out_qsize 0\n",
            "2023-06-21 22:36:16,479 : INFO : worker thread finished; awaiting finish of 3 more threads\n",
            "2023-06-21 22:36:16,487 : INFO : worker thread finished; awaiting finish of 2 more threads\n",
            "2023-06-21 22:36:16,492 : INFO : worker thread finished; awaiting finish of 1 more threads\n",
            "2023-06-21 22:36:16,505 : INFO : worker thread finished; awaiting finish of 0 more threads\n",
            "2023-06-21 22:36:16,505 : INFO : EPOCH - 4 : training on 8553373 raw words (7954277 effective words) took 9.2s, 860976 effective words/s\n",
            "2023-06-21 22:36:17,514 : INFO : EPOCH 5 - PROGRESS: at 10.99% examples, 852234 words/s, in_qsize 7, out_qsize 0\n",
            "2023-06-21 22:36:18,524 : INFO : EPOCH 5 - PROGRESS: at 22.10% examples, 864333 words/s, in_qsize 7, out_qsize 0\n",
            "2023-06-21 22:36:19,525 : INFO : EPOCH 5 - PROGRESS: at 32.80% examples, 866871 words/s, in_qsize 7, out_qsize 0\n",
            "2023-06-21 22:36:20,530 : INFO : EPOCH 5 - PROGRESS: at 43.45% examples, 861218 words/s, in_qsize 7, out_qsize 0\n",
            "2023-06-21 22:36:21,542 : INFO : EPOCH 5 - PROGRESS: at 53.79% examples, 852117 words/s, in_qsize 7, out_qsize 0\n",
            "2023-06-21 22:36:22,555 : INFO : EPOCH 5 - PROGRESS: at 64.90% examples, 855993 words/s, in_qsize 7, out_qsize 0\n",
            "2023-06-21 22:36:23,565 : INFO : EPOCH 5 - PROGRESS: at 75.37% examples, 851020 words/s, in_qsize 7, out_qsize 0\n",
            "2023-06-21 22:36:24,572 : INFO : EPOCH 5 - PROGRESS: at 86.24% examples, 850888 words/s, in_qsize 7, out_qsize 0\n",
            "2023-06-21 22:36:25,584 : INFO : EPOCH 5 - PROGRESS: at 97.06% examples, 851007 words/s, in_qsize 7, out_qsize 0\n",
            "2023-06-21 22:36:25,850 : INFO : worker thread finished; awaiting finish of 3 more threads\n",
            "2023-06-21 22:36:25,853 : INFO : worker thread finished; awaiting finish of 2 more threads\n",
            "2023-06-21 22:36:25,857 : INFO : worker thread finished; awaiting finish of 1 more threads\n",
            "2023-06-21 22:36:25,872 : INFO : worker thread finished; awaiting finish of 0 more threads\n",
            "2023-06-21 22:36:25,873 : INFO : EPOCH - 5 : training on 8553373 raw words (7954323 effective words) took 9.4s, 849410 effective words/s\n",
            "2023-06-21 22:36:25,873 : INFO : training on a 42766865 raw words (39771949 effective words) took 47.0s, 846007 effective words/s\n",
            "C:\\Users\\phara\\AppData\\Local\\Temp\\ipykernel_20496\\994300612.py:12: DeprecationWarning: Call to deprecated `__getitem__` (Method will be removed in 4.0.0, use self.wv.__getitem__() instead).\n",
            "  X_cbow = model_cbow[model_cbow.wv.vocab]\n"
          ]
        }
      ],
      "source": [
        "context_size = 20\n",
        "min_word_count = 6\n",
        "num_features = 150\n",
        "num_workers = 4\n",
        "negative = 0\n",
        "hs = 1\n",
        "expoent = 0.75\n",
        "sg = 0\n",
        "\n",
        "model_cbow = word2vec.Word2Vec(sentences, sg=sg, size=num_features, window=context_size, min_count=min_word_count, workers=num_workers,\n",
        "                               sorted_vocab=1, negative=negative, seed=1, ns_exponent=expoent, hs=hs)\n",
        "X_cbow = model_cbow[model_cbow.wv.vocab]"
      ]
    },
    {
      "attachments": {},
      "cell_type": "markdown",
      "metadata": {
        "id": "PCnfLEJ1CKX4"
      },
      "source": [
        "Once the model is trained, we can obtain the words closest to a given word using the **most_similar** function, which uses cosine similarity to find the *N* most similar words. In the following example we can see that the word most similar to \"queen\" is \"elizabeth\", which shows the power of the method to find similarity between words."
      ]
    },
    {
      "cell_type": "code",
      "execution_count": 4,
      "metadata": {
        "colab": {
          "base_uri": "https://localhost:8080/"
        },
        "id": "D9-vuFvS0dc-",
        "outputId": "e87a036f-53db-4efe-c176-c7a306d885e4"
      },
      "outputs": [
        {
          "name": "stderr",
          "output_type": "stream",
          "text": [
            "2023-06-21 22:36:26,007 : INFO : precomputing L2-norms of word weight vectors\n"
          ]
        },
        {
          "data": {
            "text/plain": [
              "[('elizabeth', 0.6560304164886475),\n",
              " ('victoria', 0.5203901529312134),\n",
              " ('princess', 0.5191277265548706),\n",
              " ('monarch', 0.5107560157775879),\n",
              " ('prince', 0.4932408928871155),\n",
              " ('duchess', 0.4810779094696045),\n",
              " ('king', 0.4804069995880127),\n",
              " ('anne', 0.4778186082839966),\n",
              " ('consort', 0.46456122398376465),\n",
              " ('highness', 0.46176111698150635)]"
            ]
          },
          "execution_count": 4,
          "metadata": {},
          "output_type": "execute_result"
        }
      ],
      "source": [
        "model_cbow.wv.most_similar('queen')"
      ]
    },
    {
      "attachments": {},
      "cell_type": "markdown",
      "metadata": {
        "id": "m3t32Oj6VoRx"
      },
      "source": [
        "With the embedding generated by the CBOW Word2Vec model, it is possible to perform operations through the vectors corresponding to the words and analyze which word the result is most similar to, that is, which word has the shortest distance to the vector found. Such a way of evaluating our model is known as solving analogies. As an example, we will use the classic `KING + WOMAN - MAN` operation. It should result in `QUEEN`, which happens for several of the models, but for the tests that showed better overall accuracy, this does not happen in the majority.\n",
        "\n",
        "Several reasons can explain this disagreement. One of them, and the most likely one for this context, is that the word `QUEEN` and `KING` are most often used together with the name of a queen or king or a name's number (Queen Victoria II), such as Elisabeth and Isabella, which is often the result that is most similar to the classic analogy."
      ]
    },
    {
      "cell_type": "code",
      "execution_count": 5,
      "metadata": {
        "colab": {
          "base_uri": "https://localhost:8080/"
        },
        "id": "OwvwQBi9Um-U",
        "outputId": "42ec80b7-fcd4-433b-8788-642244e7136c"
      },
      "outputs": [
        {
          "data": {
            "text/plain": [
              "[('neustria', 0.4946824014186859),\n",
              " ('aquitaine', 0.4824504256248474),\n",
              " ('crowned', 0.4665129780769348)]"
            ]
          },
          "execution_count": 5,
          "metadata": {},
          "output_type": "execute_result"
        }
      ],
      "source": [
        "model_cbow.wv.most_similar(positive=['king', 'woman'], negative=['man'], topn=3)"
      ]
    },
    {
      "attachments": {},
      "cell_type": "markdown",
      "metadata": {
        "id": "rmrgbPuNhBUq"
      },
      "source": [
        "The *gensim* package has a feature to evaluate the capacity (by classes, in this case) of solving analogies of a model just passing the 'questions-words.txt' file. We used the overall accuracy for the analogies as a metric of choice to determine the best model. However, some parameter combinations proved to be very effective for the *gram6-nationality-adjective* class, reaching around 70% accuracy. However, in these cases, the other classes presented results much lower than those with greater overall accuracy. Depending on the purpose of using the embeddings, you can choose another combination of parameters that seeks to maximize the accuracy of a given class."
      ]
    },
    {
      "cell_type": "code",
      "execution_count": 6,
      "metadata": {
        "colab": {
          "base_uri": "https://localhost:8080/"
        },
        "id": "eIIHx4oRg-re",
        "outputId": "f249531a-3856-46a0-8ea1-aa83d760ac87"
      },
      "outputs": [
        {
          "name": "stderr",
          "output_type": "stream",
          "text": [
            "2023-06-21 22:36:26,317 : INFO : Evaluating word analogies for top 300000 words in the model on c:\\Users\\phara\\anaconda3\\lib\\site-packages\\gensim\\test\\test_data\\./questions-words.txt\n",
            "2023-06-21 22:36:27,392 : INFO : capital-common-countries: 56.3% (285/506)\n",
            "2023-06-21 22:36:34,184 : INFO : capital-world: 30.1% (1009/3357)\n",
            "2023-06-21 22:36:35,325 : INFO : currency: 1.7% (10/596)\n",
            "2023-06-21 22:36:39,619 : INFO : city-in-state: 35.6% (758/2128)\n",
            "2023-06-21 22:36:40,295 : INFO : family: 28.4% (97/342)\n",
            "2023-06-21 22:36:42,148 : INFO : gram1-adjective-to-adverb: 2.5% (22/870)\n",
            "2023-06-21 22:36:43,593 : INFO : gram2-opposite: 5.1% (36/702)\n",
            "2023-06-21 22:36:46,297 : INFO : gram3-comparative: 19.0% (253/1332)\n",
            "2023-06-21 22:36:48,207 : INFO : gram4-superlative: 5.4% (50/930)\n",
            "2023-06-21 22:36:49,871 : INFO : gram5-present-participle: 11.4% (86/756)\n",
            "2023-06-21 22:36:53,073 : INFO : gram6-nationality-adjective: 71.2% (1083/1521)\n",
            "2023-06-21 22:36:56,256 : INFO : gram7-past-tense: 17.3% (257/1482)\n",
            "2023-06-21 22:36:58,876 : INFO : gram8-plural: 39.6% (471/1190)\n",
            "2023-06-21 22:37:00,110 : INFO : gram9-plural-verbs: 14.5% (87/600)\n",
            "2023-06-21 22:37:00,111 : INFO : Quadruplets with out-of-vocabulary words: 16.5%\n",
            "2023-06-21 22:37:00,112 : INFO : NB: analogies containing OOV words were skipped from evaluation! To change this behavior, use \"dummy4unknown=True\"\n",
            "2023-06-21 22:37:00,113 : INFO : Total accuracy: 27.6% (4504/16312)\n"
          ]
        }
      ],
      "source": [
        "similarities = model_cbow.wv.evaluate_word_analogies(datapath('./questions-words.txt'))"
      ]
    },
    {
      "attachments": {},
      "cell_type": "markdown",
      "metadata": {
        "id": "F8UYG8CEhwJK"
      },
      "source": [
        "Note that among the existing classes in the document, the model performs better for gram6-nationality-adjective, followed by capital-common-countries and family. The worst performance was for the currency class, for which the model misses almost all examples."
      ]
    },
    {
      "attachments": {},
      "cell_type": "markdown",
      "metadata": {
        "id": "NWt0Kg9w79X1"
      },
      "source": [
        "A possible visual analysis of the relationship between the words comprises the use of a PCA or t-SNE to reduce the dimensionality of the vectors corresponding to each word - generated by the model. Using only two dimensions we can plot the words in a two-dimensional space and visually analyze the distance between them. The code below does exactly what is described for the words of an analogy, using PCA."
      ]
    },
    {
      "cell_type": "code",
      "execution_count": 7,
      "metadata": {
        "id": "gAOFSMjllrnS"
      },
      "outputs": [],
      "source": [
        "correct_example = list(similarities[1][0]['correct'][:2])\n",
        "incorrect_example = list(similarities[1][0]['incorrect'][:2])\n",
        "\n",
        "example = correct_example\n",
        "# example = incorrect_example\n",
        "\n",
        "foo = list(model_cbow.wv.vocab.keys())\n",
        "indexes = []\n",
        "for item in example:\n",
        "  a,b,c,d = item\n",
        "  a = foo.index(a.lower())\n",
        "  b = foo.index(b.lower())\n",
        "  c = foo.index(c.lower())\n",
        "  d = foo.index(d.lower())\n",
        "  indexes.extend((a, b, c, d))\n",
        "import numpy as np\n",
        "_, idx = np.unique(indexes, return_index=True)\n",
        "indexes = np.array(indexes)[np.sort(idx).astype(int)]"
      ]
    },
    {
      "cell_type": "code",
      "execution_count": 8,
      "metadata": {
        "colab": {
          "base_uri": "https://localhost:8080/",
          "height": 533
        },
        "id": "3JFgJjvr0qhF",
        "outputId": "f407a64d-2fc0-4ce8-99f1-3553d7961f53"
      },
      "outputs": [
        {
          "data": {
            "image/png": "[encoded data removed]",
            "text/plain": [
              "<Figure size 800x640 with 1 Axes>"
            ]
          },
          "metadata": {
            "needs_background": "light"
          },
          "output_type": "display_data"
        }
      ],
      "source": [
        "pca = PCA(n_components=2)\n",
        "result = pca.fit_transform(X_cbow[indexes])\n",
        "size = 20\n",
        "plt.figure(figsize=(10, 8), dpi=80)\n",
        "plt.scatter(result[:, 0], result[:, 1], s=100)\n",
        "words = [list(model_cbow.wv.vocab.keys())[list(indexes)[i]] for i in range(len(list(indexes)))]\n",
        "\n",
        "if example == correct_example:\n",
        "  capitals = [words[i] for i in [0,2,4]]\n",
        "  countries = [words[i] for i in [1,3,5]]\n",
        "  for i in range(len(capitals)):\n",
        "    x = result[words.index(capitals[i]), 0]\n",
        "    y = result[words.index(capitals[i]), 1]\n",
        "    dx = result[words.index(countries[i]), 0] - x\n",
        "    dy = result[words.index(countries[i]), 1] - y\n",
        "    plt.arrow(x, y-0.05, dx, dy, head_width=0.15, head_length=0.15, fc='k', ec='k')\n",
        "\n",
        "for i, word in enumerate(words):\n",
        "\tplt.annotate(word, xy=(result[i, 0]+0.2, result[i, 1]))\n",
        "plt.show()"
      ]
    },
    {
      "attachments": {},
      "cell_type": "markdown",
      "metadata": {
        "id": "oN8h2ZcfZw83"
      },
      "source": [
        "The plot above that the model performs well for the correct examples, establishing similar relationships for countries and their respective capitals."
      ]
    },
    {
      "attachments": {},
      "cell_type": "markdown",
      "metadata": {
        "id": "lJ8hcJVR7nmQ"
      },
      "source": [
        "### Skip-gram"
      ]
    },
    {
      "attachments": {},
      "cell_type": "markdown",
      "metadata": {
        "id": "CTosmrp0bDxl"
      },
      "source": [
        "Here, the routine implemented for the CBOW is replicated by changing the **sg** parameter of the Word2Vec function and, therefore, there are no comments sections."
      ]
    },
    {
      "cell_type": "code",
      "execution_count": 9,
      "metadata": {
        "colab": {
          "base_uri": "https://localhost:8080/",
          "height": 1000
        },
        "id": "9uIxSsQ7u5yl",
        "outputId": "be1d8bb5-db80-4836-ee09-2e5e9524b511"
      },
      "outputs": [
        {
          "name": "stderr",
          "output_type": "stream",
          "text": [
            "2023-06-21 22:37:00,331 : INFO : collecting all words and their counts\n",
            "2023-06-21 22:37:00,332 : INFO : PROGRESS: at sentence #0, processed 0 words, keeping 0 word types\n",
            "2023-06-21 22:37:01,744 : INFO : collected 252861 word types from a corpus of 8553373 raw words and 1701 sentences\n",
            "2023-06-21 22:37:01,744 : INFO : Loading a fresh vocabulary\n",
            "2023-06-21 22:37:02,060 : INFO : effective_min_count=12 retains 41558 unique words (16% of original 252861, drops 211303)\n",
            "2023-06-21 22:37:02,061 : INFO : effective_min_count=12 leaves 8060685 word corpus (94% of original 8553373, drops 492688)\n",
            "2023-06-21 22:37:02,180 : INFO : deleting the raw counts dictionary of 252861 items\n",
            "2023-06-21 22:37:02,186 : INFO : sample=0.001 downsamples 3 most-common words\n",
            "2023-06-21 22:37:02,186 : INFO : downsampling leaves estimated 7784843 word corpus (96.6% of prior 8060685)\n",
            "2023-06-21 22:37:02,233 : INFO : constructing a huffman tree from 41558 words\n",
            "2023-06-21 22:37:03,020 : INFO : built huffman tree with maximum node depth 19\n",
            "2023-06-21 22:37:03,030 : INFO : estimated required memory for 41558 words and 100 dimensions: 62337000 bytes\n",
            "2023-06-21 22:37:03,030 : INFO : resetting layer weights\n",
            "2023-06-21 22:37:09,405 : INFO : training model with 4 workers on 41558 vocabulary and 100 features, using sg=1 hs=1 sample=0.001 negative=0 window=15\n",
            "2023-06-21 22:37:10,420 : INFO : EPOCH 1 - PROGRESS: at 2.12% examples, 165823 words/s, in_qsize 7, out_qsize 0\n",
            "2023-06-21 22:37:11,431 : INFO : EPOCH 1 - PROGRESS: at 4.70% examples, 180868 words/s, in_qsize 7, out_qsize 0\n",
            "2023-06-21 22:37:12,437 : INFO : EPOCH 1 - PROGRESS: at 7.23% examples, 182096 words/s, in_qsize 7, out_qsize 0\n",
            "2023-06-21 22:37:13,459 : INFO : EPOCH 1 - PROGRESS: at 9.58% examples, 180730 words/s, in_qsize 7, out_qsize 0\n",
            "2023-06-21 22:37:14,472 : INFO : EPOCH 1 - PROGRESS: at 12.23% examples, 184565 words/s, in_qsize 7, out_qsize 0\n",
            "2023-06-21 22:37:15,489 : INFO : EPOCH 1 - PROGRESS: at 14.87% examples, 188052 words/s, in_qsize 8, out_qsize 0\n",
            "2023-06-21 22:37:16,530 : INFO : EPOCH 1 - PROGRESS: at 17.46% examples, 188726 words/s, in_qsize 7, out_qsize 0\n",
            "2023-06-21 22:37:17,550 : INFO : EPOCH 1 - PROGRESS: at 20.05% examples, 189500 words/s, in_qsize 7, out_qsize 0\n",
            "2023-06-21 22:37:18,572 : INFO : EPOCH 1 - PROGRESS: at 22.63% examples, 190503 words/s, in_qsize 7, out_qsize 0\n",
            "2023-06-21 22:37:19,608 : INFO : EPOCH 1 - PROGRESS: at 25.16% examples, 191252 words/s, in_qsize 7, out_qsize 0\n",
            "2023-06-21 22:37:20,616 : INFO : EPOCH 1 - PROGRESS: at 27.57% examples, 191262 words/s, in_qsize 7, out_qsize 0\n",
            "2023-06-21 22:37:21,651 : INFO : EPOCH 1 - PROGRESS: at 30.16% examples, 191902 words/s, in_qsize 7, out_qsize 0\n",
            "2023-06-21 22:37:22,709 : INFO : EPOCH 1 - PROGRESS: at 32.80% examples, 192397 words/s, in_qsize 8, out_qsize 0\n",
            "2023-06-21 22:37:23,725 : INFO : EPOCH 1 - PROGRESS: at 35.45% examples, 193165 words/s, in_qsize 7, out_qsize 0\n",
            "2023-06-21 22:37:24,795 : INFO : EPOCH 1 - PROGRESS: at 38.04% examples, 192861 words/s, in_qsize 7, out_qsize 0\n",
            "2023-06-21 22:37:25,801 : INFO : EPOCH 1 - PROGRESS: at 40.80% examples, 194021 words/s, in_qsize 7, out_qsize 0\n",
            "2023-06-21 22:37:26,820 : INFO : EPOCH 1 - PROGRESS: at 43.39% examples, 194447 words/s, in_qsize 7, out_qsize 0\n",
            "2023-06-21 22:37:27,838 : INFO : EPOCH 1 - PROGRESS: at 45.97% examples, 194603 words/s, in_qsize 7, out_qsize 0\n",
            "2023-06-21 22:37:28,843 : INFO : EPOCH 1 - PROGRESS: at 48.62% examples, 195032 words/s, in_qsize 7, out_qsize 0\n",
            "2023-06-21 22:37:29,858 : INFO : EPOCH 1 - PROGRESS: at 50.97% examples, 194449 words/s, in_qsize 7, out_qsize 0\n",
            "2023-06-21 22:37:30,883 : INFO : EPOCH 1 - PROGRESS: at 53.62% examples, 194826 words/s, in_qsize 7, out_qsize 0\n",
            "2023-06-21 22:37:31,902 : INFO : EPOCH 1 - PROGRESS: at 56.20% examples, 195037 words/s, in_qsize 7, out_qsize 0\n",
            "2023-06-21 22:37:32,919 : INFO : EPOCH 1 - PROGRESS: at 58.79% examples, 195145 words/s, in_qsize 8, out_qsize 0\n",
            "2023-06-21 22:37:33,931 : INFO : EPOCH 1 - PROGRESS: at 61.38% examples, 195301 words/s, in_qsize 8, out_qsize 0\n",
            "2023-06-21 22:37:35,015 : INFO : EPOCH 1 - PROGRESS: at 63.84% examples, 194620 words/s, in_qsize 7, out_qsize 0\n",
            "2023-06-21 22:37:36,021 : INFO : EPOCH 1 - PROGRESS: at 66.31% examples, 194475 words/s, in_qsize 7, out_qsize 0\n",
            "2023-06-21 22:37:37,051 : INFO : EPOCH 1 - PROGRESS: at 68.96% examples, 194724 words/s, in_qsize 7, out_qsize 0\n",
            "2023-06-21 22:37:38,072 : INFO : EPOCH 1 - PROGRESS: at 71.66% examples, 195146 words/s, in_qsize 7, out_qsize 0\n",
            "2023-06-21 22:37:39,142 : INFO : EPOCH 1 - PROGRESS: at 74.37% examples, 195249 words/s, in_qsize 8, out_qsize 0\n",
            "2023-06-21 22:37:40,153 : INFO : EPOCH 1 - PROGRESS: at 77.25% examples, 195729 words/s, in_qsize 7, out_qsize 0\n",
            "2023-06-21 22:37:41,167 : INFO : EPOCH 1 - PROGRESS: at 79.95% examples, 196009 words/s, in_qsize 7, out_qsize 0\n",
            "2023-06-21 22:37:42,174 : INFO : EPOCH 1 - PROGRESS: at 82.36% examples, 195718 words/s, in_qsize 8, out_qsize 0\n",
            "2023-06-21 22:37:43,236 : INFO : EPOCH 1 - PROGRESS: at 84.95% examples, 195599 words/s, in_qsize 8, out_qsize 0\n",
            "2023-06-21 22:37:44,243 : INFO : EPOCH 1 - PROGRESS: at 87.48% examples, 195499 words/s, in_qsize 7, out_qsize 0\n",
            "2023-06-21 22:37:45,268 : INFO : EPOCH 1 - PROGRESS: at 90.12% examples, 195792 words/s, in_qsize 7, out_qsize 0\n",
            "2023-06-21 22:37:46,284 : INFO : EPOCH 1 - PROGRESS: at 92.77% examples, 196006 words/s, in_qsize 7, out_qsize 0\n",
            "2023-06-21 22:37:47,287 : INFO : EPOCH 1 - PROGRESS: at 95.36% examples, 196115 words/s, in_qsize 7, out_qsize 0\n",
            "2023-06-21 22:37:48,323 : INFO : EPOCH 1 - PROGRESS: at 97.94% examples, 195946 words/s, in_qsize 7, out_qsize 0\n",
            "2023-06-21 22:37:49,011 : INFO : worker thread finished; awaiting finish of 3 more threads\n",
            "2023-06-21 22:37:49,062 : INFO : worker thread finished; awaiting finish of 2 more threads\n",
            "2023-06-21 22:37:49,074 : INFO : worker thread finished; awaiting finish of 1 more threads\n",
            "2023-06-21 22:37:49,119 : INFO : worker thread finished; awaiting finish of 0 more threads\n",
            "2023-06-21 22:37:49,119 : INFO : EPOCH - 1 : training on 8553373 raw words (7784601 effective words) took 39.7s, 196026 effective words/s\n",
            "2023-06-21 22:37:50,140 : INFO : EPOCH 2 - PROGRESS: at 2.41% examples, 186922 words/s, in_qsize 7, out_qsize 0\n",
            "2023-06-21 22:37:51,257 : INFO : EPOCH 2 - PROGRESS: at 5.17% examples, 187722 words/s, in_qsize 7, out_qsize 0\n",
            "2023-06-21 22:37:52,322 : INFO : EPOCH 2 - PROGRESS: at 8.11% examples, 193632 words/s, in_qsize 7, out_qsize 0\n",
            "2023-06-21 22:37:53,338 : INFO : EPOCH 2 - PROGRESS: at 10.76% examples, 194835 words/s, in_qsize 7, out_qsize 0\n",
            "2023-06-21 22:37:54,351 : INFO : EPOCH 2 - PROGRESS: at 13.40% examples, 196348 words/s, in_qsize 7, out_qsize 0\n",
            "2023-06-21 22:37:55,416 : INFO : EPOCH 2 - PROGRESS: at 16.11% examples, 197006 words/s, in_qsize 7, out_qsize 0\n",
            "2023-06-21 22:37:56,417 : INFO : EPOCH 2 - PROGRESS: at 18.75% examples, 197998 words/s, in_qsize 7, out_qsize 0\n",
            "2023-06-21 22:37:57,425 : INFO : EPOCH 2 - PROGRESS: at 21.40% examples, 198567 words/s, in_qsize 7, out_qsize 0\n",
            "2023-06-21 22:37:58,457 : INFO : EPOCH 2 - PROGRESS: at 23.87% examples, 197979 words/s, in_qsize 7, out_qsize 0\n",
            "2023-06-21 22:37:59,479 : INFO : EPOCH 2 - PROGRESS: at 26.40% examples, 197844 words/s, in_qsize 7, out_qsize 0\n",
            "2023-06-21 22:38:00,487 : INFO : EPOCH 2 - PROGRESS: at 28.87% examples, 197500 words/s, in_qsize 8, out_qsize 0\n",
            "2023-06-21 22:38:01,517 : INFO : EPOCH 2 - PROGRESS: at 31.51% examples, 198107 words/s, in_qsize 7, out_qsize 0\n",
            "2023-06-21 22:38:02,530 : INFO : EPOCH 2 - PROGRESS: at 33.80% examples, 196678 words/s, in_qsize 7, out_qsize 0\n",
            "2023-06-21 22:38:03,555 : INFO : EPOCH 2 - PROGRESS: at 36.39% examples, 196775 words/s, in_qsize 7, out_qsize 0\n",
            "2023-06-21 22:38:04,575 : INFO : EPOCH 2 - PROGRESS: at 38.86% examples, 196084 words/s, in_qsize 8, out_qsize 0\n",
            "2023-06-21 22:38:05,587 : INFO : EPOCH 2 - PROGRESS: at 41.39% examples, 195906 words/s, in_qsize 7, out_qsize 0\n",
            "2023-06-21 22:38:06,629 : INFO : EPOCH 2 - PROGRESS: at 43.97% examples, 195998 words/s, in_qsize 7, out_qsize 0\n",
            "2023-06-21 22:38:07,672 : INFO : EPOCH 2 - PROGRESS: at 46.62% examples, 196082 words/s, in_qsize 7, out_qsize 0\n",
            "2023-06-21 22:38:08,691 : INFO : EPOCH 2 - PROGRESS: at 49.21% examples, 196129 words/s, in_qsize 7, out_qsize 0\n",
            "2023-06-21 22:38:09,702 : INFO : EPOCH 2 - PROGRESS: at 51.73% examples, 196077 words/s, in_qsize 7, out_qsize 0\n",
            "2023-06-21 22:38:10,748 : INFO : EPOCH 2 - PROGRESS: at 54.38% examples, 196234 words/s, in_qsize 7, out_qsize 0\n",
            "2023-06-21 22:38:11,804 : INFO : EPOCH 2 - PROGRESS: at 56.91% examples, 195934 words/s, in_qsize 7, out_qsize 0\n",
            "2023-06-21 22:38:12,844 : INFO : EPOCH 2 - PROGRESS: at 59.38% examples, 195382 words/s, in_qsize 8, out_qsize 0\n",
            "2023-06-21 22:38:13,850 : INFO : EPOCH 2 - PROGRESS: at 61.96% examples, 195573 words/s, in_qsize 7, out_qsize 0\n",
            "2023-06-21 22:38:14,900 : INFO : EPOCH 2 - PROGRESS: at 64.49% examples, 195278 words/s, in_qsize 7, out_qsize 0\n",
            "2023-06-21 22:38:15,900 : INFO : EPOCH 2 - PROGRESS: at 67.20% examples, 195824 words/s, in_qsize 7, out_qsize 0\n",
            "2023-06-21 22:38:16,957 : INFO : EPOCH 2 - PROGRESS: at 69.61% examples, 195225 words/s, in_qsize 7, out_qsize 0\n",
            "2023-06-21 22:38:17,966 : INFO : EPOCH 2 - PROGRESS: at 72.02% examples, 194865 words/s, in_qsize 7, out_qsize 0\n",
            "2023-06-21 22:38:18,987 : INFO : EPOCH 2 - PROGRESS: at 74.31% examples, 194252 words/s, in_qsize 7, out_qsize 0\n",
            "2023-06-21 22:38:20,020 : INFO : EPOCH 2 - PROGRESS: at 76.95% examples, 194060 words/s, in_qsize 7, out_qsize 0\n",
            "2023-06-21 22:38:21,021 : INFO : EPOCH 2 - PROGRESS: at 79.42% examples, 193848 words/s, in_qsize 7, out_qsize 0\n",
            "2023-06-21 22:38:22,043 : INFO : EPOCH 2 - PROGRESS: at 81.89% examples, 193687 words/s, in_qsize 7, out_qsize 0\n",
            "2023-06-21 22:38:23,050 : INFO : EPOCH 2 - PROGRESS: at 84.30% examples, 193514 words/s, in_qsize 7, out_qsize 0\n",
            "2023-06-21 22:38:24,106 : INFO : EPOCH 2 - PROGRESS: at 86.71% examples, 192970 words/s, in_qsize 7, out_qsize 0\n",
            "2023-06-21 22:38:25,124 : INFO : EPOCH 2 - PROGRESS: at 89.18% examples, 192945 words/s, in_qsize 7, out_qsize 0\n",
            "2023-06-21 22:38:26,128 : INFO : EPOCH 2 - PROGRESS: at 91.53% examples, 192759 words/s, in_qsize 7, out_qsize 0\n",
            "2023-06-21 22:38:27,179 : INFO : EPOCH 2 - PROGRESS: at 94.06% examples, 192551 words/s, in_qsize 7, out_qsize 0\n",
            "2023-06-21 22:38:28,196 : INFO : EPOCH 2 - PROGRESS: at 96.53% examples, 192422 words/s, in_qsize 7, out_qsize 0\n",
            "2023-06-21 22:38:29,215 : INFO : EPOCH 2 - PROGRESS: at 99.06% examples, 192346 words/s, in_qsize 7, out_qsize 0\n",
            "2023-06-21 22:38:29,478 : INFO : worker thread finished; awaiting finish of 3 more threads\n",
            "2023-06-21 22:38:29,494 : INFO : worker thread finished; awaiting finish of 2 more threads\n",
            "2023-06-21 22:38:29,511 : INFO : worker thread finished; awaiting finish of 1 more threads\n",
            "2023-06-21 22:38:29,550 : INFO : worker thread finished; awaiting finish of 0 more threads\n",
            "2023-06-21 22:38:29,551 : INFO : EPOCH - 2 : training on 8553373 raw words (7784966 effective words) took 40.4s, 192559 effective words/s\n",
            "2023-06-21 22:38:30,578 : INFO : EPOCH 3 - PROGRESS: at 2.47% examples, 190371 words/s, in_qsize 7, out_qsize 0\n",
            "2023-06-21 22:38:31,644 : INFO : EPOCH 3 - PROGRESS: at 5.17% examples, 191913 words/s, in_qsize 7, out_qsize 0\n",
            "2023-06-21 22:38:32,732 : INFO : EPOCH 3 - PROGRESS: at 8.11% examples, 195068 words/s, in_qsize 7, out_qsize 0\n",
            "2023-06-21 22:38:33,750 : INFO : EPOCH 3 - PROGRESS: at 10.88% examples, 197663 words/s, in_qsize 7, out_qsize 0\n",
            "2023-06-21 22:38:34,775 : INFO : EPOCH 3 - PROGRESS: at 13.46% examples, 197498 words/s, in_qsize 7, out_qsize 0\n",
            "2023-06-21 22:38:35,823 : INFO : EPOCH 3 - PROGRESS: at 16.11% examples, 197800 words/s, in_qsize 7, out_qsize 0\n",
            "2023-06-21 22:38:36,845 : INFO : EPOCH 3 - PROGRESS: at 18.75% examples, 198099 words/s, in_qsize 7, out_qsize 0\n",
            "2023-06-21 22:38:37,862 : INFO : EPOCH 3 - PROGRESS: at 21.46% examples, 198996 words/s, in_qsize 7, out_qsize 0\n",
            "2023-06-21 22:38:38,870 : INFO : EPOCH 3 - PROGRESS: at 24.04% examples, 199882 words/s, in_qsize 7, out_qsize 0\n",
            "2023-06-21 22:38:39,912 : INFO : EPOCH 3 - PROGRESS: at 26.57% examples, 199176 words/s, in_qsize 7, out_qsize 0\n",
            "2023-06-21 22:38:40,939 : INFO : EPOCH 3 - PROGRESS: at 29.22% examples, 199569 words/s, in_qsize 7, out_qsize 0\n",
            "2023-06-21 22:38:41,951 : INFO : EPOCH 3 - PROGRESS: at 31.75% examples, 199583 words/s, in_qsize 7, out_qsize 0\n",
            "2023-06-21 22:38:42,992 : INFO : EPOCH 3 - PROGRESS: at 34.27% examples, 198915 words/s, in_qsize 7, out_qsize 0\n",
            "2023-06-21 22:38:44,001 : INFO : EPOCH 3 - PROGRESS: at 36.98% examples, 199808 words/s, in_qsize 7, out_qsize 0\n",
            "2023-06-21 22:38:45,024 : INFO : EPOCH 3 - PROGRESS: at 39.56% examples, 199439 words/s, in_qsize 7, out_qsize 0\n",
            "2023-06-21 22:38:46,048 : INFO : EPOCH 3 - PROGRESS: at 42.27% examples, 199872 words/s, in_qsize 7, out_qsize 0\n",
            "2023-06-21 22:38:47,050 : INFO : EPOCH 3 - PROGRESS: at 44.80% examples, 199821 words/s, in_qsize 7, out_qsize 0\n",
            "2023-06-21 22:38:48,065 : INFO : EPOCH 3 - PROGRESS: at 47.38% examples, 199661 words/s, in_qsize 7, out_qsize 0\n",
            "2023-06-21 22:38:49,154 : INFO : EPOCH 3 - PROGRESS: at 50.15% examples, 199628 words/s, in_qsize 7, out_qsize 0\n",
            "2023-06-21 22:38:50,173 : INFO : EPOCH 3 - PROGRESS: at 52.97% examples, 200534 words/s, in_qsize 7, out_qsize 0\n",
            "2023-06-21 22:38:51,198 : INFO : EPOCH 3 - PROGRESS: at 55.61% examples, 200527 words/s, in_qsize 7, out_qsize 0\n",
            "2023-06-21 22:38:52,253 : INFO : EPOCH 3 - PROGRESS: at 58.26% examples, 200363 words/s, in_qsize 7, out_qsize 0\n",
            "2023-06-21 22:38:53,290 : INFO : EPOCH 3 - PROGRESS: at 61.02% examples, 200647 words/s, in_qsize 7, out_qsize 0\n",
            "2023-06-21 22:38:54,309 : INFO : EPOCH 3 - PROGRESS: at 63.61% examples, 200582 words/s, in_qsize 7, out_qsize 0\n",
            "2023-06-21 22:38:55,322 : INFO : EPOCH 3 - PROGRESS: at 66.31% examples, 200860 words/s, in_qsize 7, out_qsize 0\n",
            "2023-06-21 22:38:56,328 : INFO : EPOCH 3 - PROGRESS: at 69.08% examples, 201384 words/s, in_qsize 7, out_qsize 0\n",
            "2023-06-21 22:38:57,349 : INFO : EPOCH 3 - PROGRESS: at 71.66% examples, 201250 words/s, in_qsize 7, out_qsize 0\n",
            "2023-06-21 22:38:58,406 : INFO : EPOCH 3 - PROGRESS: at 74.31% examples, 201067 words/s, in_qsize 7, out_qsize 0\n",
            "2023-06-21 22:38:59,444 : INFO : EPOCH 3 - PROGRESS: at 77.31% examples, 201488 words/s, in_qsize 7, out_qsize 0\n",
            "2023-06-21 22:39:00,454 : INFO : EPOCH 3 - PROGRESS: at 80.01% examples, 201610 words/s, in_qsize 7, out_qsize 0\n",
            "2023-06-21 22:39:01,460 : INFO : EPOCH 3 - PROGRESS: at 82.60% examples, 201540 words/s, in_qsize 7, out_qsize 0\n",
            "2023-06-21 22:39:02,493 : INFO : EPOCH 3 - PROGRESS: at 85.19% examples, 201418 words/s, in_qsize 7, out_qsize 0\n",
            "2023-06-21 22:39:03,510 : INFO : EPOCH 3 - PROGRESS: at 87.95% examples, 201678 words/s, in_qsize 7, out_qsize 0\n",
            "2023-06-21 22:39:04,550 : INFO : EPOCH 3 - PROGRESS: at 90.59% examples, 201678 words/s, in_qsize 7, out_qsize 0\n",
            "2023-06-21 22:39:05,572 : INFO : EPOCH 3 - PROGRESS: at 93.24% examples, 201699 words/s, in_qsize 7, out_qsize 0\n",
            "2023-06-21 22:39:06,592 : INFO : EPOCH 3 - PROGRESS: at 95.88% examples, 201673 words/s, in_qsize 7, out_qsize 0\n",
            "2023-06-21 22:39:07,594 : INFO : EPOCH 3 - PROGRESS: at 98.65% examples, 201874 words/s, in_qsize 7, out_qsize 0\n",
            "2023-06-21 22:39:08,026 : INFO : worker thread finished; awaiting finish of 3 more threads\n",
            "2023-06-21 22:39:08,037 : INFO : worker thread finished; awaiting finish of 2 more threads\n",
            "2023-06-21 22:39:08,056 : INFO : worker thread finished; awaiting finish of 1 more threads\n",
            "2023-06-21 22:39:08,098 : INFO : worker thread finished; awaiting finish of 0 more threads\n",
            "2023-06-21 22:39:08,099 : INFO : EPOCH - 3 : training on 8553373 raw words (7784795 effective words) took 38.5s, 201966 effective words/s\n",
            "2023-06-21 22:39:09,118 : INFO : EPOCH 4 - PROGRESS: at 2.47% examples, 192176 words/s, in_qsize 7, out_qsize 0\n",
            "2023-06-21 22:39:10,124 : INFO : EPOCH 4 - PROGRESS: at 5.06% examples, 194060 words/s, in_qsize 7, out_qsize 0\n",
            "2023-06-21 22:39:11,152 : INFO : EPOCH 4 - PROGRESS: at 7.64% examples, 191433 words/s, in_qsize 7, out_qsize 0\n",
            "2023-06-21 22:39:12,184 : INFO : EPOCH 4 - PROGRESS: at 10.46% examples, 195945 words/s, in_qsize 7, out_qsize 0\n",
            "2023-06-21 22:39:13,185 : INFO : EPOCH 4 - PROGRESS: at 12.93% examples, 194653 words/s, in_qsize 8, out_qsize 0\n",
            "2023-06-21 22:39:14,211 : INFO : EPOCH 4 - PROGRESS: at 15.64% examples, 196943 words/s, in_qsize 7, out_qsize 0\n",
            "2023-06-21 22:39:15,222 : INFO : EPOCH 4 - PROGRESS: at 18.22% examples, 197139 words/s, in_qsize 7, out_qsize 0\n",
            "2023-06-21 22:39:16,251 : INFO : EPOCH 4 - PROGRESS: at 20.93% examples, 197807 words/s, in_qsize 7, out_qsize 0\n",
            "2023-06-21 22:39:17,272 : INFO : EPOCH 4 - PROGRESS: at 23.52% examples, 198352 words/s, in_qsize 6, out_qsize 1\n",
            "2023-06-21 22:39:18,302 : INFO : EPOCH 4 - PROGRESS: at 26.04% examples, 198320 words/s, in_qsize 7, out_qsize 0\n",
            "2023-06-21 22:39:19,314 : INFO : EPOCH 4 - PROGRESS: at 28.81% examples, 199779 words/s, in_qsize 7, out_qsize 0\n",
            "2023-06-21 22:39:20,333 : INFO : EPOCH 4 - PROGRESS: at 31.45% examples, 200372 words/s, in_qsize 7, out_qsize 0\n",
            "2023-06-21 22:39:21,359 : INFO : EPOCH 4 - PROGRESS: at 33.92% examples, 199612 words/s, in_qsize 7, out_qsize 0\n",
            "2023-06-21 22:39:22,364 : INFO : EPOCH 4 - PROGRESS: at 36.57% examples, 200154 words/s, in_qsize 7, out_qsize 0\n",
            "2023-06-21 22:39:23,374 : INFO : EPOCH 4 - PROGRESS: at 39.15% examples, 199947 words/s, in_qsize 7, out_qsize 0\n",
            "2023-06-21 22:39:24,434 : INFO : EPOCH 4 - PROGRESS: at 41.86% examples, 199886 words/s, in_qsize 7, out_qsize 0\n",
            "2023-06-21 22:39:25,436 : INFO : EPOCH 4 - PROGRESS: at 44.56% examples, 200623 words/s, in_qsize 7, out_qsize 0\n",
            "2023-06-21 22:39:26,460 : INFO : EPOCH 4 - PROGRESS: at 47.21% examples, 200600 words/s, in_qsize 7, out_qsize 0\n",
            "2023-06-21 22:39:27,467 : INFO : EPOCH 4 - PROGRESS: at 49.79% examples, 200620 words/s, in_qsize 7, out_qsize 0\n",
            "2023-06-21 22:39:28,490 : INFO : EPOCH 4 - PROGRESS: at 52.50% examples, 200802 words/s, in_qsize 7, out_qsize 0\n",
            "2023-06-21 22:39:29,527 : INFO : EPOCH 4 - PROGRESS: at 55.03% examples, 200394 words/s, in_qsize 7, out_qsize 0\n",
            "2023-06-21 22:39:30,535 : INFO : EPOCH 4 - PROGRESS: at 57.73% examples, 200924 words/s, in_qsize 7, out_qsize 0\n",
            "2023-06-21 22:39:31,548 : INFO : EPOCH 4 - PROGRESS: at 60.38% examples, 200960 words/s, in_qsize 7, out_qsize 0\n",
            "2023-06-21 22:39:32,619 : INFO : EPOCH 4 - PROGRESS: at 62.96% examples, 200498 words/s, in_qsize 7, out_qsize 0\n",
            "2023-06-21 22:39:33,630 : INFO : EPOCH 4 - PROGRESS: at 65.73% examples, 200964 words/s, in_qsize 7, out_qsize 0\n",
            "2023-06-21 22:39:34,651 : INFO : EPOCH 4 - PROGRESS: at 68.43% examples, 201159 words/s, in_qsize 7, out_qsize 0\n",
            "2023-06-21 22:39:35,683 : INFO : EPOCH 4 - PROGRESS: at 70.96% examples, 200885 words/s, in_qsize 7, out_qsize 0\n",
            "2023-06-21 22:39:36,684 : INFO : EPOCH 4 - PROGRESS: at 73.72% examples, 201346 words/s, in_qsize 7, out_qsize 0\n",
            "2023-06-21 22:39:37,707 : INFO : EPOCH 4 - PROGRESS: at 76.43% examples, 201245 words/s, in_qsize 7, out_qsize 0\n",
            "2023-06-21 22:39:38,789 : INFO : EPOCH 4 - PROGRESS: at 79.31% examples, 201220 words/s, in_qsize 7, out_qsize 0\n",
            "2023-06-21 22:39:39,793 : INFO : EPOCH 4 - PROGRESS: at 82.13% examples, 201792 words/s, in_qsize 7, out_qsize 0\n",
            "2023-06-21 22:39:40,853 : INFO : EPOCH 4 - PROGRESS: at 84.77% examples, 201613 words/s, in_qsize 7, out_qsize 0\n",
            "2023-06-21 22:39:41,893 : INFO : EPOCH 4 - PROGRESS: at 87.48% examples, 201561 words/s, in_qsize 7, out_qsize 0\n",
            "2023-06-21 22:39:42,894 : INFO : EPOCH 4 - PROGRESS: at 90.01% examples, 201542 words/s, in_qsize 7, out_qsize 0\n",
            "2023-06-21 22:39:43,943 : INFO : EPOCH 4 - PROGRESS: at 92.71% examples, 201551 words/s, in_qsize 7, out_qsize 0\n",
            "2023-06-21 22:39:45,013 : INFO : EPOCH 4 - PROGRESS: at 95.41% examples, 201399 words/s, in_qsize 7, out_qsize 0\n",
            "2023-06-21 22:39:46,067 : INFO : EPOCH 4 - PROGRESS: at 98.24% examples, 201460 words/s, in_qsize 7, out_qsize 0\n",
            "2023-06-21 22:39:46,614 : INFO : worker thread finished; awaiting finish of 3 more threads\n",
            "2023-06-21 22:39:46,639 : INFO : worker thread finished; awaiting finish of 2 more threads\n",
            "2023-06-21 22:39:46,651 : INFO : worker thread finished; awaiting finish of 1 more threads\n",
            "2023-06-21 22:39:46,690 : INFO : worker thread finished; awaiting finish of 0 more threads\n",
            "2023-06-21 22:39:46,691 : INFO : EPOCH - 4 : training on 8553373 raw words (7785228 effective words) took 38.6s, 201745 effective words/s\n",
            "2023-06-21 22:39:47,714 : INFO : EPOCH 5 - PROGRESS: at 2.47% examples, 191415 words/s, in_qsize 7, out_qsize 0\n",
            "2023-06-21 22:39:48,800 : INFO : EPOCH 5 - PROGRESS: at 5.17% examples, 190525 words/s, in_qsize 7, out_qsize 0\n",
            "2023-06-21 22:39:49,813 : INFO : EPOCH 5 - PROGRESS: at 8.00% examples, 196045 words/s, in_qsize 7, out_qsize 0\n",
            "2023-06-21 22:39:50,864 : INFO : EPOCH 5 - PROGRESS: at 10.64% examples, 194848 words/s, in_qsize 7, out_qsize 0\n",
            "2023-06-21 22:39:51,901 : INFO : EPOCH 5 - PROGRESS: at 13.46% examples, 198075 words/s, in_qsize 7, out_qsize 0\n",
            "2023-06-21 22:39:52,940 : INFO : EPOCH 5 - PROGRESS: at 16.11% examples, 198564 words/s, in_qsize 7, out_qsize 0\n",
            "2023-06-21 22:39:53,997 : INFO : EPOCH 5 - PROGRESS: at 18.99% examples, 200038 words/s, in_qsize 7, out_qsize 0\n",
            "2023-06-21 22:39:55,010 : INFO : EPOCH 5 - PROGRESS: at 21.63% examples, 200501 words/s, in_qsize 7, out_qsize 0\n",
            "2023-06-21 22:39:56,022 : INFO : EPOCH 5 - PROGRESS: at 24.28% examples, 201692 words/s, in_qsize 7, out_qsize 0\n",
            "2023-06-21 22:39:57,032 : INFO : EPOCH 5 - PROGRESS: at 26.87% examples, 201877 words/s, in_qsize 7, out_qsize 0\n",
            "2023-06-21 22:39:58,052 : INFO : EPOCH 5 - PROGRESS: at 29.45% examples, 201672 words/s, in_qsize 7, out_qsize 0\n",
            "2023-06-21 22:39:59,067 : INFO : EPOCH 5 - PROGRESS: at 31.98% examples, 201447 words/s, in_qsize 7, out_qsize 0\n",
            "2023-06-21 22:40:00,100 : INFO : EPOCH 5 - PROGRESS: at 34.63% examples, 201482 words/s, in_qsize 7, out_qsize 0\n",
            "2023-06-21 22:40:01,151 : INFO : EPOCH 5 - PROGRESS: at 37.21% examples, 200942 words/s, in_qsize 7, out_qsize 0\n",
            "2023-06-21 22:40:02,168 : INFO : EPOCH 5 - PROGRESS: at 39.98% examples, 201463 words/s, in_qsize 7, out_qsize 0\n",
            "2023-06-21 22:40:03,217 : INFO : EPOCH 5 - PROGRESS: at 42.56% examples, 200961 words/s, in_qsize 7, out_qsize 0\n",
            "2023-06-21 22:40:04,261 : INFO : EPOCH 5 - PROGRESS: at 45.39% examples, 201575 words/s, in_qsize 7, out_qsize 0\n",
            "2023-06-21 22:40:05,348 : INFO : EPOCH 5 - PROGRESS: at 48.21% examples, 201533 words/s, in_qsize 7, out_qsize 0\n",
            "2023-06-21 22:40:06,368 : INFO : EPOCH 5 - PROGRESS: at 50.85% examples, 201655 words/s, in_qsize 6, out_qsize 1\n",
            "2023-06-21 22:40:07,374 : INFO : EPOCH 5 - PROGRESS: at 53.44% examples, 201647 words/s, in_qsize 7, out_qsize 0\n",
            "2023-06-21 22:40:08,405 : INFO : EPOCH 5 - PROGRESS: at 56.20% examples, 202072 words/s, in_qsize 7, out_qsize 0\n",
            "2023-06-21 22:40:09,442 : INFO : EPOCH 5 - PROGRESS: at 58.85% examples, 201900 words/s, in_qsize 7, out_qsize 0\n",
            "2023-06-21 22:40:10,453 : INFO : EPOCH 5 - PROGRESS: at 61.61% examples, 202362 words/s, in_qsize 7, out_qsize 0\n",
            "2023-06-21 22:40:11,505 : INFO : EPOCH 5 - PROGRESS: at 64.26% examples, 202128 words/s, in_qsize 7, out_qsize 0\n",
            "2023-06-21 22:40:12,535 : INFO : EPOCH 5 - PROGRESS: at 66.78% examples, 201691 words/s, in_qsize 7, out_qsize 0\n",
            "2023-06-21 22:40:13,538 : INFO : EPOCH 5 - PROGRESS: at 69.55% examples, 202247 words/s, in_qsize 7, out_qsize 0\n",
            "2023-06-21 22:40:14,560 : INFO : EPOCH 5 - PROGRESS: at 72.19% examples, 202204 words/s, in_qsize 7, out_qsize 0\n",
            "2023-06-21 22:40:15,587 : INFO : EPOCH 5 - PROGRESS: at 74.78% examples, 202018 words/s, in_qsize 7, out_qsize 0\n",
            "2023-06-21 22:40:16,601 : INFO : EPOCH 5 - PROGRESS: at 77.54% examples, 201953 words/s, in_qsize 7, out_qsize 0\n",
            "2023-06-21 22:40:17,607 : INFO : EPOCH 5 - PROGRESS: at 80.31% examples, 202271 words/s, in_qsize 7, out_qsize 0\n",
            "2023-06-21 22:40:18,626 : INFO : EPOCH 5 - PROGRESS: at 82.89% examples, 202090 words/s, in_qsize 7, out_qsize 0\n",
            "2023-06-21 22:40:19,646 : INFO : EPOCH 5 - PROGRESS: at 85.48% examples, 202027 words/s, in_qsize 7, out_qsize 0\n",
            "2023-06-21 22:40:20,663 : INFO : EPOCH 5 - PROGRESS: at 88.12% examples, 202020 words/s, in_qsize 7, out_qsize 0\n",
            "2023-06-21 22:40:21,678 : INFO : EPOCH 5 - PROGRESS: at 90.83% examples, 202282 words/s, in_qsize 7, out_qsize 0\n",
            "2023-06-21 22:40:22,693 : INFO : EPOCH 5 - PROGRESS: at 93.36% examples, 202055 words/s, in_qsize 7, out_qsize 0\n",
            "2023-06-21 22:40:23,702 : INFO : EPOCH 5 - PROGRESS: at 96.06% examples, 202189 words/s, in_qsize 7, out_qsize 0\n",
            "2023-06-21 22:40:24,718 : INFO : EPOCH 5 - PROGRESS: at 98.77% examples, 202189 words/s, in_qsize 7, out_qsize 0\n",
            "2023-06-21 22:40:25,096 : INFO : worker thread finished; awaiting finish of 3 more threads\n",
            "2023-06-21 22:40:25,130 : INFO : worker thread finished; awaiting finish of 2 more threads\n",
            "2023-06-21 22:40:25,138 : INFO : worker thread finished; awaiting finish of 1 more threads\n",
            "2023-06-21 22:40:25,185 : INFO : worker thread finished; awaiting finish of 0 more threads\n",
            "2023-06-21 22:40:25,186 : INFO : EPOCH - 5 : training on 8553373 raw words (7784403 effective words) took 38.5s, 202239 effective words/s\n",
            "2023-06-21 22:40:25,186 : INFO : training on a 42766865 raw words (38923993 effective words) took 195.8s, 198815 effective words/s\n",
            "C:\\Users\\phara\\AppData\\Local\\Temp\\ipykernel_20496\\3471474.py:13: DeprecationWarning: Call to deprecated `__getitem__` (Method will be removed in 4.0.0, use self.wv.__getitem__() instead).\n",
            "  X_skipgram = model_skipgram[model_skipgram.wv.vocab]\n",
            "2023-06-21 22:40:25,268 : INFO : precomputing L2-norms of word weight vectors\n",
            "2023-06-21 22:40:25,320 : INFO : Evaluating word analogies for top 300000 words in the model on c:\\Users\\phara\\anaconda3\\lib\\site-packages\\gensim\\test\\test_data\\./questions-words.txt\n"
          ]
        },
        {
          "name": "stdout",
          "output_type": "stream",
          "text": [
            "QUEEN SIMILARITY:  [('elizabeth', 0.8422247171401978), ('prince', 0.7951779365539551), ('princess', 0.747859001159668), ('crown', 0.7246151566505432), ('anne', 0.7225764989852905), ('highness', 0.7091344594955444), ('consort', 0.693722128868103), ('duchess', 0.6926062107086182), ('throne', 0.6863209009170532), ('king', 0.6851376295089722)]\n",
            "KING + WOMAN - MAN :  [('queen', 0.6905564069747925), ('prince', 0.6845740079879761), ('throne', 0.6647992134094238), ('sibylla', 0.6305160522460938), ('princess', 0.6237257719039917), ('heir', 0.6191746592521667), ('anjou', 0.6127957105636597), ('elizabeth', 0.6121192574501038), ('daughter', 0.6083856225013733), ('anne', 0.598404049873352)]\n"
          ]
        },
        {
          "name": "stderr",
          "output_type": "stream",
          "text": [
            "2023-06-21 22:40:25,755 : INFO : capital-common-countries: 61.3% (310/506)\n",
            "2023-06-21 22:40:27,867 : INFO : capital-world: 48.6% (1201/2472)\n",
            "2023-06-21 22:40:28,241 : INFO : currency: 9.9% (41/416)\n",
            "2023-06-21 22:40:29,975 : INFO : city-in-state: 22.1% (427/1933)\n",
            "2023-06-21 22:40:30,217 : INFO : family: 34.6% (94/272)\n",
            "2023-06-21 22:40:30,890 : INFO : gram1-adjective-to-adverb: 10.4% (79/756)\n",
            "2023-06-21 22:40:31,295 : INFO : gram2-opposite: 3.9% (18/462)\n",
            "2023-06-21 22:40:32,428 : INFO : gram3-comparative: 17.4% (219/1260)\n",
            "2023-06-21 22:40:33,062 : INFO : gram4-superlative: 6.5% (49/756)\n",
            "2023-06-21 22:40:33,754 : INFO : gram5-present-participle: 22.9% (173/756)\n",
            "2023-06-21 22:40:35,036 : INFO : gram6-nationality-adjective: 70.8% (1077/1521)\n",
            "2023-06-21 22:40:36,275 : INFO : gram7-past-tense: 16.3% (241/1482)\n",
            "2023-06-21 22:40:37,193 : INFO : gram8-plural: 46.7% (524/1122)\n",
            "2023-06-21 22:40:37,656 : INFO : gram9-plural-verbs: 15.4% (85/552)\n",
            "2023-06-21 22:40:37,657 : INFO : Quadruplets with out-of-vocabulary words: 27.0%\n",
            "2023-06-21 22:40:37,658 : INFO : NB: analogies containing OOV words were skipped from evaluation! To change this behavior, use \"dummy4unknown=True\"\n",
            "2023-06-21 22:40:37,658 : INFO : Total accuracy: 31.8% (4538/14266)\n"
          ]
        },
        {
          "data": {
            "image/png": "[encoded data removed]",
            "text/plain": [
              "<Figure size 800x640 with 1 Axes>"
            ]
          },
          "metadata": {
            "needs_background": "light"
          },
          "output_type": "display_data"
        }
      ],
      "source": [
        "context_size = 15\n",
        "min_word_count = 12\n",
        "num_features = 100\n",
        "num_workers = 4\n",
        "negative = 0\n",
        "hs = 1\n",
        "expoent = 0.75\n",
        "sg = 1\n",
        "\n",
        "model_skipgram = word2vec.Word2Vec(sentences, sg=sg, size=num_features, window=context_size, min_count=min_word_count, workers=num_workers,\n",
        "                                   sorted_vocab=1, iter=5, negative=negative, seed=1, ns_exponent=expoent, hs=hs)\n",
        "\n",
        "X_skipgram = model_skipgram[model_skipgram.wv.vocab]\n",
        "\n",
        "print('QUEEN SIMILARITY: ', model_skipgram.wv.most_similar('queen'))\n",
        "\n",
        "print('KING + WOMAN - MAN : ', model_skipgram.wv.most_similar(positive=['king', 'woman'], negative=['man']))\n",
        "\n",
        "similarities = model_skipgram.wv.evaluate_word_analogies(datapath('./questions-words.txt'))\n",
        "correct_example = list(similarities[1][0]['correct'][:2])\n",
        "incorrect_example = list(similarities[1][0]['incorrect'][:2])\n",
        "\n",
        "example = correct_example\n",
        "# example = incorrect_example\n",
        "\n",
        "foo = list(model_skipgram.wv.vocab.keys())\n",
        "indexes = []\n",
        "for item in example:\n",
        "  a,b,c,d = item\n",
        "  a = foo.index(a.lower())\n",
        "  b = foo.index(b.lower())\n",
        "  c = foo.index(c.lower())\n",
        "  d = foo.index(d.lower())\n",
        "  indexes.extend((a, b, c, d))\n",
        "_, idx = np.unique(indexes, return_index=True)\n",
        "indexes = np.array(indexes)[np.sort(idx).astype(int)]\n",
        "\n",
        "pca = PCA(n_components=2)\n",
        "result = pca.fit_transform(X_skipgram[indexes])\n",
        "size = 20\n",
        "plt.figure(figsize=(10, 8), dpi=80)\n",
        "plt.scatter(result[:, 0], result[:, 1], s=100)\n",
        "words = [list(model_skipgram.wv.vocab.keys())[list(indexes)[i]] for i in range(len(list(indexes)))]\n",
        "\n",
        "if example == correct_example:\n",
        "  capitals = [words[i] for i in [0,2,4]]\n",
        "  countries = [words[i] for i in [1,3,5]]\n",
        "  for i in range(len(capitals)):\n",
        "    x = result[words.index(capitals[i]), 0]\n",
        "    y = result[words.index(capitals[i]), 1]\n",
        "    dx = result[words.index(countries[i]), 0] - x\n",
        "    dy = result[words.index(countries[i]), 1] - y\n",
        "    plt.arrow(x, y-0.05, dx, dy, head_width=0.05, head_length=0.05, fc='k', ec='k')\n",
        "\n",
        "for i, word in enumerate(words):\n",
        "\tplt.annotate(word, xy=(result[i, 0]+0.1, result[i, 1]))\n",
        "plt.show()"
      ]
    },
    {
      "attachments": {},
      "cell_type": "markdown",
      "metadata": {
        "id": "_CCD5oVNCth3"
      },
      "source": [
        "## Conclusion"
      ]
    },
    {
      "attachments": {},
      "cell_type": "markdown",
      "metadata": {
        "id": "xv3uElYzDwHr"
      },
      "source": [
        "Analyzing the performances of the two models and the visual analyzes presented, it is possible to observe that Skip-gram performed better than CBOW in relation to the analogy solution, reaching a higher accuracy. For specific classes - mainly for gram6-nationality-adjective - accuracy close to 80% was achieved with Skip-gram, which demonstrates Word2Vec's capacity to create embedding of words capable of representing semantic relations through vectors. In some analogies, despite being considered an error in the model evaluation, it was possible to observe that the semantic relations are still present. For example, in some cases the correct analogy has Russia as the correct answer and the model predicted USSR, which is totally acceptable."
      ]
    }
  ],
  "metadata": {
    "colab": {
      "provenance": []
    },
    "kernelspec": {
      "display_name": "Python 3",
      "name": "python3"
    },
    "language_info": {
      "codemirror_mode": {
        "name": "ipython",
        "version": 3
      },
      "file_extension": ".py",
      "mimetype": "text/x-python",
      "name": "python",
      "nbconvert_exporter": "python",
      "pygments_lexer": "ipython3",
      "version": "3.9.12"
    }
  },
  "nbformat": 4,
  "nbformat_minor": 0
}
